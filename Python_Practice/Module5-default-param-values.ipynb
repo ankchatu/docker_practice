{
 "cells": [
  {
   "cell_type": "code",
   "execution_count": 1,
   "id": "cfda9063-9669-440a-8e0c-fe42de0e0847",
   "metadata": {},
   "outputs": [],
   "source": [
    "def print_letter_count(source_str,find='a'):\n",
    "    count=0;\n",
    "    for ch in source_str:\n",
    "        if ch==find:\n",
    "            count+=1\n",
    "    print('the count of',find,'is',count)"
   ]
  },
  {
   "cell_type": "code",
   "execution_count": 3,
   "id": "8de23878-63b3-4177-8325-5739575c19e6",
   "metadata": {},
   "outputs": [
    {
     "name": "stdout",
     "output_type": "stream",
     "text": [
      "the count of a is 0\n"
     ]
    }
   ],
   "source": [
    "print_letter_count('find letter in this one')"
   ]
  },
  {
   "cell_type": "code",
   "execution_count": 5,
   "id": "9b1bcec7-51ea-4413-a86b-436e1ee5f809",
   "metadata": {},
   "outputs": [
    {
     "name": "stdout",
     "output_type": "stream",
     "text": [
      "the count of e is 3\n"
     ]
    }
   ],
   "source": [
    "print_letter_count('find letter in this one','e')"
   ]
  },
  {
   "cell_type": "code",
   "execution_count": 9,
   "id": "4af85be9-a4c3-4e0a-9f67-8a5ec72d5ef3",
   "metadata": {},
   "outputs": [],
   "source": [
    "def print_letter_count_a(source_str='this is default string',find='a'):\n",
    "    count=0;\n",
    "    for ch in source_str:\n",
    "        if ch==find:\n",
    "            count+=1\n",
    "    print('the count of',find,'is',count)"
   ]
  },
  {
   "cell_type": "code",
   "execution_count": 11,
   "id": "04706315-4382-4d0b-b6ac-184eeffe18ff",
   "metadata": {},
   "outputs": [
    {
     "name": "stdout",
     "output_type": "stream",
     "text": [
      "the count of a is 1\n"
     ]
    }
   ],
   "source": [
    "print_letter_count_a()"
   ]
  },
  {
   "cell_type": "code",
   "execution_count": 13,
   "id": "31428bb4-a159-4cca-b463-e849d1f2717a",
   "metadata": {},
   "outputs": [
    {
     "name": "stdout",
     "output_type": "stream",
     "text": [
      "the count of a is 3\n"
     ]
    }
   ],
   "source": [
    "print_letter_count_a('this is passed as another one')"
   ]
  },
  {
   "cell_type": "code",
   "execution_count": 17,
   "id": "8b93f49f-4377-4d49-baeb-6655fe915636",
   "metadata": {},
   "outputs": [
    {
     "name": "stdout",
     "output_type": "stream",
     "text": [
      "the count of p is 1\n"
     ]
    }
   ],
   "source": [
    "print_letter_count_a('this is passed as another one','p')"
   ]
  },
  {
   "cell_type": "code",
   "execution_count": null,
   "id": "bf4358a9-00c1-4b4e-aa14-316d52cca443",
   "metadata": {},
   "outputs": [],
   "source": []
  }
 ],
 "metadata": {
  "kernelspec": {
   "display_name": "Python 3 (ipykernel)",
   "language": "python",
   "name": "python3"
  },
  "language_info": {
   "codemirror_mode": {
    "name": "ipython",
    "version": 3
   },
   "file_extension": ".py",
   "mimetype": "text/x-python",
   "name": "python",
   "nbconvert_exporter": "python",
   "pygments_lexer": "ipython3",
   "version": "3.12.4"
  }
 },
 "nbformat": 4,
 "nbformat_minor": 5
}
