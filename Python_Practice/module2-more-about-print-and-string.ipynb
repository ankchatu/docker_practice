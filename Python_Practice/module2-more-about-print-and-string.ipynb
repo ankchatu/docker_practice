{
 "cells": [
  {
   "cell_type": "code",
   "execution_count": 1,
   "id": "a756982f-6b2a-4acf-8794-c40e32948a60",
   "metadata": {},
   "outputs": [
    {
     "name": "stdout",
     "output_type": "stream",
     "text": [
      "aa\n",
      "bb\n"
     ]
    }
   ],
   "source": [
    "print('aa')\n",
    "print('bb')"
   ]
  },
  {
   "cell_type": "code",
   "execution_count": 3,
   "id": "8e30153d-8e77-4445-a81a-aa1d134e2c54",
   "metadata": {},
   "outputs": [
    {
     "name": "stdout",
     "output_type": "stream",
     "text": [
      "aa|bb\n"
     ]
    }
   ],
   "source": [
    "print('aa',end='|')\n",
    "print('bb')"
   ]
  },
  {
   "cell_type": "code",
   "execution_count": null,
   "id": "02581495-daf2-4663-a69f-1524798174a5",
   "metadata": {},
   "outputs": [],
   "source": [
    "print('aa','bb',sep=')"
   ]
  }
 ],
 "metadata": {
  "kernelspec": {
   "display_name": "Python 3 (ipykernel)",
   "language": "python",
   "name": "python3"
  },
  "language_info": {
   "codemirror_mode": {
    "name": "ipython",
    "version": 3
   },
   "file_extension": ".py",
   "mimetype": "text/x-python",
   "name": "python",
   "nbconvert_exporter": "python",
   "pygments_lexer": "ipython3",
   "version": "3.12.4"
  }
 },
 "nbformat": 4,
 "nbformat_minor": 5
}
