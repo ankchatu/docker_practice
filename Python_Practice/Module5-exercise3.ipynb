{
 "cells": [
  {
   "cell_type": "code",
   "execution_count": 77,
   "id": "233d74e0-b2c9-4a36-b574-cb4669961d5d",
   "metadata": {},
   "outputs": [
    {
     "name": "stdout",
     "output_type": "stream",
     "text": [
      "[2, 4, 7, 8, 0]\n",
      "['hare', 'rama', 'krisna']\n"
     ]
    }
   ],
   "source": [
    "def unique(listtocompare):\n",
    "    duplist = {}\n",
    "    for c in listtocompare:\n",
    "        for i in listtocompare:\n",
    "            duplist[c] = True\n",
    "\n",
    "    finallist = [] \n",
    "    for key in duplist.keys():\n",
    "        finallist.append(key)\n",
    "\n",
    "    return finallist\n",
    "\n",
    "print(unique([2,4,7,8,0,2,4]))\n",
    "print(unique(['hare','rama','hare','krisna']))\n"
   ]
  },
  {
   "cell_type": "code",
   "execution_count": null,
   "id": "5c10eff2-e654-4263-ac2a-489ccac6aced",
   "metadata": {},
   "outputs": [],
   "source": []
  }
 ],
 "metadata": {
  "kernelspec": {
   "display_name": "Python 3 (ipykernel)",
   "language": "python",
   "name": "python3"
  },
  "language_info": {
   "codemirror_mode": {
    "name": "ipython",
    "version": 3
   },
   "file_extension": ".py",
   "mimetype": "text/x-python",
   "name": "python",
   "nbconvert_exporter": "python",
   "pygments_lexer": "ipython3",
   "version": "3.12.4"
  }
 },
 "nbformat": 4,
 "nbformat_minor": 5
}
