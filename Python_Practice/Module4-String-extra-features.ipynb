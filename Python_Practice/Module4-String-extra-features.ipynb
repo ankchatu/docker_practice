{
 "cells": [
  {
   "cell_type": "code",
   "execution_count": 1,
   "id": "22cbbfb4-ba21-4d02-8c50-ec8e7e61e7dc",
   "metadata": {},
   "outputs": [
    {
     "name": "stdout",
     "output_type": "stream",
     "text": [
      "my name iss\n",
      "n\n",
      "my n\n"
     ]
    }
   ],
   "source": [
    "strlist = 'my name iss'\n",
    "print(strlist)\n",
    "print(strlist[3])\n",
    "print(strlist[:4])"
   ]
  },
  {
   "cell_type": "code",
   "execution_count": 3,
   "id": "d10ec647-32f3-471c-9c33-cf36d7e8956a",
   "metadata": {},
   "outputs": [
    {
     "ename": "TypeError",
     "evalue": "'str' object does not support item assignment",
     "output_type": "error",
     "traceback": [
      "\u001b[1;31m---------------------------------------------------------------------------\u001b[0m",
      "\u001b[1;31mTypeError\u001b[0m                                 Traceback (most recent call last)",
      "Cell \u001b[1;32mIn[3], line 2\u001b[0m\n\u001b[0;32m      1\u001b[0m \u001b[38;5;66;03m#BUT you cant assign to a string char like list\u001b[39;00m\n\u001b[1;32m----> 2\u001b[0m strlist[\u001b[38;5;241m4\u001b[39m] \u001b[38;5;241m=\u001b[39m \u001b[38;5;124m'\u001b[39m\u001b[38;5;124mt\u001b[39m\u001b[38;5;124m'\u001b[39m\n\u001b[0;32m      3\u001b[0m \u001b[38;5;28mprint\u001b[39m(strlist)\n",
      "\u001b[1;31mTypeError\u001b[0m: 'str' object does not support item assignment"
     ]
    }
   ],
   "source": [
    "#BUT you cant assign to a string char like list\n",
    "strlist[4] = 't'\n",
    "print(strlist)"
   ]
  },
  {
   "cell_type": "code",
   "execution_count": 5,
   "id": "af731b2f-c6f6-4aca-9803-348c00ca60a7",
   "metadata": {},
   "outputs": [
    {
     "name": "stdout",
     "output_type": "stream",
     "text": [
      "MY NAME ISS\n"
     ]
    }
   ],
   "source": [
    "upperstr = strlist.upper()\n",
    "print(upperstr)"
   ]
  },
  {
   "cell_type": "code",
   "execution_count": 9,
   "id": "2d4bde3c-c6cf-4340-b398-1cc9fc8419d2",
   "metadata": {},
   "outputs": [
    {
     "name": "stdin",
     "output_type": "stream",
     "text": [
      "Please give a valid number rrr\n"
     ]
    },
    {
     "name": "stdout",
     "output_type": "stream",
     "text": [
      "NO , you are WRONG\n"
     ]
    }
   ],
   "source": [
    "num = input('Please give a valid number')\n",
    "if num.isnumeric() is True:\n",
    "    print('valid number , YES')\n",
    "else:\n",
    "    print('NO , you are WRONG')"
   ]
  },
  {
   "cell_type": "code",
   "execution_count": 11,
   "id": "8b7c51a5-ca5f-4bdd-ac4d-30cb69fa59f9",
   "metadata": {},
   "outputs": [
    {
     "name": "stdout",
     "output_type": "stream",
     "text": [
      "False\n"
     ]
    }
   ],
   "source": [
    "print(strlist.isupper())\n",
    "print(strlist.islower())"
   ]
  },
  {
   "cell_type": "code",
   "execution_count": null,
   "id": "2c24ce6d-3fe7-44e5-9083-2e743c178572",
   "metadata": {},
   "outputs": [],
   "source": []
  }
 ],
 "metadata": {
  "kernelspec": {
   "display_name": "Python 3 (ipykernel)",
   "language": "python",
   "name": "python3"
  },
  "language_info": {
   "codemirror_mode": {
    "name": "ipython",
    "version": 3
   },
   "file_extension": ".py",
   "mimetype": "text/x-python",
   "name": "python",
   "nbconvert_exporter": "python",
   "pygments_lexer": "ipython3",
   "version": "3.12.4"
  }
 },
 "nbformat": 4,
 "nbformat_minor": 5
}
