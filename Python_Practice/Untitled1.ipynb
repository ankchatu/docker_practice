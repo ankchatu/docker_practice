{
 "cells": [
  {
   "cell_type": "code",
   "execution_count": 1,
   "id": "bde7de70-ea69-49ac-ab10-d36ce14db552",
   "metadata": {},
   "outputs": [
    {
     "name": "stdout",
     "output_type": "stream",
     "text": [
      "Hellew wold!!\n"
     ]
    }
   ],
   "source": [
    "print('Hellew wold!!')"
   ]
  },
  {
   "cell_type": "code",
   "execution_count": null,
   "id": "cb62b494-ac5e-431e-974a-925ba2f9f474",
   "metadata": {},
   "outputs": [],
   "source": []
  }
 ],
 "metadata": {
  "kernelspec": {
   "display_name": "Python 3 (ipykernel)",
   "language": "python",
   "name": "python3"
  },
  "language_info": {
   "codemirror_mode": {
    "name": "ipython",
    "version": 3
   },
   "file_extension": ".py",
   "mimetype": "text/x-python",
   "name": "python",
   "nbconvert_exporter": "python",
   "pygments_lexer": "ipython3",
   "version": "3.12.4"
  }
 },
 "nbformat": 4,
 "nbformat_minor": 5
}
