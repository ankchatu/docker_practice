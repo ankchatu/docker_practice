{
 "cells": [
  {
   "cell_type": "code",
   "execution_count": 1,
   "id": "fea3e401-b02a-4567-97ca-4748c0a03214",
   "metadata": {},
   "outputs": [
    {
     "name": "stdout",
     "output_type": "stream",
     "text": [
      "jaja jaja\n",
      "jaja badla jaja\n"
     ]
    }
   ],
   "source": [
    "var1 = 'jaja'\n",
    "var2 = var1\n",
    "print(var1, var2)\n",
    "var1 = 'jaja badla'\n",
    "print(var1, var2)"
   ]
  },
  {
   "cell_type": "code",
   "execution_count": 3,
   "id": "7b886795-41ff-48ba-a1a1-a6cc290e6a7a",
   "metadata": {},
   "outputs": [
    {
     "name": "stdout",
     "output_type": "stream",
     "text": [
      "22 22\n",
      "55 22\n"
     ]
    }
   ],
   "source": [
    "var1 = 22\n",
    "var2 = var1\n",
    "print(var1, var2)\n",
    "var1 = 55\n",
    "print(var1, var2)"
   ]
  },
  {
   "cell_type": "code",
   "execution_count": null,
   "id": "71105de0-2491-4b9f-82db-ba16b177de30",
   "metadata": {},
   "outputs": [],
   "source": [
    "listone = ['naam','gum','jayega']\n",
    "listtwo = listone\n",
    "print(listone,'and',listtwo)"
   ]
  }
 ],
 "metadata": {
  "kernelspec": {
   "display_name": "Python 3 (ipykernel)",
   "language": "python",
   "name": "python3"
  },
  "language_info": {
   "codemirror_mode": {
    "name": "ipython",
    "version": 3
   },
   "file_extension": ".py",
   "mimetype": "text/x-python",
   "name": "python",
   "nbconvert_exporter": "python",
   "pygments_lexer": "ipython3",
   "version": "3.12.4"
  }
 },
 "nbformat": 4,
 "nbformat_minor": 5
}
