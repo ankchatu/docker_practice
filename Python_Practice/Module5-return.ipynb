{
 "cells": [
  {
   "cell_type": "code",
   "execution_count": 1,
   "id": "029cb621-54e0-4a5c-8124-4d1e7231fa47",
   "metadata": {},
   "outputs": [],
   "source": [
    "def calcavg(numlist):\n",
    "    sum = 0\n",
    "    average = 0\n",
    "    for n in numlist:\n",
    "        sum+=n\n",
    "    average = sum/len(numlist)\n",
    "    return average"
   ]
  },
  {
   "cell_type": "code",
   "execution_count": 3,
   "id": "01f3edfa-d7b5-4ecf-815c-ffc8858de7fd",
   "metadata": {},
   "outputs": [
    {
     "name": "stdout",
     "output_type": "stream",
     "text": [
      "average of input values 4.4\n"
     ]
    }
   ],
   "source": [
    "print('average of input values',calcavg([2,3,7,6,4]))"
   ]
  },
  {
   "cell_type": "code",
   "execution_count": 39,
   "id": "9faed078-16c2-4a9d-bf38-5a2200f1db55",
   "metadata": {},
   "outputs": [],
   "source": [
    "def lessthantenavg(paramlist):\n",
    "    if len(paramlist) == 0:\n",
    "        return\n",
    "    average = calcavg(paramlist)\n",
    "    if average>10:\n",
    "        return True\n",
    "    else:\n",
    "        return False"
   ]
  },
  {
   "cell_type": "code",
   "execution_count": 51,
   "id": "e640abf6-a8f8-4e0c-8830-f29180a76662",
   "metadata": {},
   "outputs": [
    {
     "name": "stdout",
     "output_type": "stream",
     "text": [
      "here\n",
      "None\n"
     ]
    }
   ],
   "source": [
    "print(lessthantenavg([]))"
   ]
  },
  {
   "cell_type": "code",
   "execution_count": null,
   "id": "6ff73338-d146-4e3d-9df2-2e57749e4a9f",
   "metadata": {},
   "outputs": [],
   "source": []
  }
 ],
 "metadata": {
  "kernelspec": {
   "display_name": "Python 3 (ipykernel)",
   "language": "python",
   "name": "python3"
  },
  "language_info": {
   "codemirror_mode": {
    "name": "ipython",
    "version": 3
   },
   "file_extension": ".py",
   "mimetype": "text/x-python",
   "name": "python",
   "nbconvert_exporter": "python",
   "pygments_lexer": "ipython3",
   "version": "3.12.4"
  }
 },
 "nbformat": 4,
 "nbformat_minor": 5
}
