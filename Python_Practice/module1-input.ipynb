{
 "cells": [
  {
   "cell_type": "code",
   "execution_count": 1,
   "id": "f2ef4c3a-1378-45b7-8b31-a1f26826bfbf",
   "metadata": {},
   "outputs": [
    {
     "name": "stdout",
     "output_type": "stream",
     "text": [
      "Hi please give your name\n"
     ]
    },
    {
     "name": "stdin",
     "output_type": "stream",
     "text": [
      " Ankurr\n"
     ]
    },
    {
     "name": "stdout",
     "output_type": "stream",
     "text": [
      "user name is Ankurr\n"
     ]
    }
   ],
   "source": [
    "print('Hi please give your name')\n",
    "user_name = input()\n",
    "print('user name is',user_name)"
   ]
  },
  {
   "cell_type": "code",
   "execution_count": null,
   "id": "73779511-19a2-48fb-b67e-6e3f2d9f2718",
   "metadata": {},
   "outputs": [],
   "source": [
    "user_name = input('what is your name')\n",
    "print('your name is',user_b)"
   ]
  }
 ],
 "metadata": {
  "kernelspec": {
   "display_name": "Python 3 (ipykernel)",
   "language": "python",
   "name": "python3"
  },
  "language_info": {
   "codemirror_mode": {
    "name": "ipython",
    "version": 3
   },
   "file_extension": ".py",
   "mimetype": "text/x-python",
   "name": "python",
   "nbconvert_exporter": "python",
   "pygments_lexer": "ipython3",
   "version": "3.12.4"
  }
 },
 "nbformat": 4,
 "nbformat_minor": 5
}
