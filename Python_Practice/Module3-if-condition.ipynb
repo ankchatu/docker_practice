{
 "cells": [
  {
   "cell_type": "code",
   "execution_count": 13,
   "id": "b11f41ab-ae83-420d-b834-9ffb1291e2cf",
   "metadata": {},
   "outputs": [
    {
     "name": "stdin",
     "output_type": "stream",
     "text": [
      "Please give your age 60\n"
     ]
    },
    {
     "name": "stdout",
     "output_type": "stream",
     "text": [
      "you are just adult\n"
     ]
    }
   ],
   "source": [
    "isAdult = int(input('Please give your age'))\n",
    "if isAdult < 18:\n",
    "    print('Your are not adult')\n",
    "    print('You are a Child')\n",
    "elif isAdult >= 18 & isAdult < 60:\n",
    "    print('you are just adult')\n",
    "else:\n",
    "    print('you are senior citizen')"
   ]
  },
  {
   "cell_type": "code",
   "execution_count": null,
   "id": "315e89f5-e54f-471e-bbc9-7e9d089d05b9",
   "metadata": {},
   "outputs": [],
   "source": []
  }
 ],
 "metadata": {
  "kernelspec": {
   "display_name": "Python 3 (ipykernel)",
   "language": "python",
   "name": "python3"
  },
  "language_info": {
   "codemirror_mode": {
    "name": "ipython",
    "version": 3
   },
   "file_extension": ".py",
   "mimetype": "text/x-python",
   "name": "python",
   "nbconvert_exporter": "python",
   "pygments_lexer": "ipython3",
   "version": "3.12.4"
  }
 },
 "nbformat": 4,
 "nbformat_minor": 5
}
