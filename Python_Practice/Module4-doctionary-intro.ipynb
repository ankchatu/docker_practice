{
 "cells": [
  {
   "cell_type": "code",
   "execution_count": 1,
   "id": "c135eda3-084a-47fc-8b56-ea3d1639887a",
   "metadata": {},
   "outputs": [
    {
     "name": "stdout",
     "output_type": "stream",
     "text": [
      "{'pehla': 'first', 'doosra': 'second', 'teesra': 'third'}\n"
     ]
    }
   ],
   "source": [
    "mydictionary = {'pehla':'first',\n",
    "               'doosra':'second',\n",
    "               'teesra':'third'}\n",
    "print(mydictionary)"
   ]
  },
  {
   "cell_type": "code",
   "execution_count": 3,
   "id": "5ccc54b1-0ea0-476b-b5ae-e6b183dec2e1",
   "metadata": {},
   "outputs": [
    {
     "name": "stdout",
     "output_type": "stream",
     "text": [
      "second\n"
     ]
    }
   ],
   "source": [
    "print(mydictionary['doosra'])"
   ]
  },
  {
   "cell_type": "code",
   "execution_count": 9,
   "id": "ef010b6d-616b-47b3-a461-591bcdf7cd27",
   "metadata": {},
   "outputs": [
    {
     "name": "stdout",
     "output_type": "stream",
     "text": [
      "{'pehla': 'dupli first', 'doosra': 'second', 'teesra': 'third'}\n"
     ]
    }
   ],
   "source": [
    "# replacement of laatest value in key\n",
    "bydictionary = {'pehla':'first',\n",
    "               'doosra':'second',\n",
    "               'teesra':'third',\n",
    "               'pehla':'dupli first'}\n",
    "print(bydictionary)"
   ]
  },
  {
   "cell_type": "code",
   "execution_count": 11,
   "id": "ad664bca-901b-4560-980b-7ea94a8f5b77",
   "metadata": {},
   "outputs": [
    {
     "name": "stdout",
     "output_type": "stream",
     "text": [
      "{1: 'int one', 'pehla': 'hindi one', 'eins': 'german one'}\n"
     ]
    }
   ],
   "source": [
    "# usage of diff data type as key\n",
    "multikeydict = {1:'int one',\n",
    "                'pehla':'hindi one',\n",
    "               'eins':'german one'\n",
    "               }\n",
    "print(multikeydict)\n"
   ]
  },
  {
   "cell_type": "code",
   "execution_count": 13,
   "id": "428d7bf5-9a47-4bf7-855b-d488f5fe2a21",
   "metadata": {},
   "outputs": [
    {
     "name": "stdout",
     "output_type": "stream",
     "text": [
      "int one\n",
      "hindi one\n"
     ]
    }
   ],
   "source": [
    "print(multikeydict[1])\n",
    "print(multikeydict['pehla'])"
   ]
  },
  {
   "cell_type": "code",
   "execution_count": 23,
   "id": "abdcf7ce-5d0d-4b25-bd76-53f37cf35bef",
   "metadata": {},
   "outputs": [
    {
     "name": "stdout",
     "output_type": "stream",
     "text": [
      "{(1, 'ankur'): 'me', (2, 'abhi'): 'frnd', (3, 'yogi'): 'cm of UP', (4, 'state'): ['mp', 'raj', 'karnataka']}\n"
     ]
    }
   ],
   "source": [
    "tupledictionary = { (1,'ankur'):'me',\n",
    "    (2,'abhi'):'frnd',\n",
    "    (3,'yogi'):'cm of UP',\n",
    "     (4,'state') : ['mp','raj','karnataka']             \n",
    "}\n",
    "print(tupledictionary)"
   ]
  },
  {
   "cell_type": "code",
   "execution_count": 17,
   "id": "ab959ef6-4a4c-40e7-92df-a29f2d69edc8",
   "metadata": {},
   "outputs": [
    {
     "name": "stdout",
     "output_type": "stream",
     "text": [
      "cm of UP\n"
     ]
    }
   ],
   "source": [
    "print(tupledictionary[(3, 'yogi')])"
   ]
  },
  {
   "cell_type": "code",
   "execution_count": 25,
   "id": "afa3b861-3d4b-49e9-8fa2-86690a10daa5",
   "metadata": {},
   "outputs": [
    {
     "name": "stdout",
     "output_type": "stream",
     "text": [
      "['mp', 'raj', 'karnataka']\n"
     ]
    }
   ],
   "source": [
    "print(tupledictionary[(4, 'state')])"
   ]
  },
  {
   "cell_type": "code",
   "execution_count": null,
   "id": "063060fc-4948-46f9-9542-01c875fe3d31",
   "metadata": {},
   "outputs": [],
   "source": []
  }
 ],
 "metadata": {
  "kernelspec": {
   "display_name": "Python 3 (ipykernel)",
   "language": "python",
   "name": "python3"
  },
  "language_info": {
   "codemirror_mode": {
    "name": "ipython",
    "version": 3
   },
   "file_extension": ".py",
   "mimetype": "text/x-python",
   "name": "python",
   "nbconvert_exporter": "python",
   "pygments_lexer": "ipython3",
   "version": "3.12.4"
  }
 },
 "nbformat": 4,
 "nbformat_minor": 5
}
