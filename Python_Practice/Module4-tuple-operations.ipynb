{
 "cells": [
  {
   "cell_type": "code",
   "execution_count": 1,
   "id": "897717b3-67c3-4916-aae1-a5df67fbf32b",
   "metadata": {},
   "outputs": [
    {
     "data": {
      "text/plain": [
       "3"
      ]
     },
     "execution_count": 1,
     "metadata": {},
     "output_type": "execute_result"
    }
   ],
   "source": [
    "tpl = ['aa','hh','fff']\n",
    "len(tpl)"
   ]
  },
  {
   "cell_type": "code",
   "execution_count": 7,
   "id": "782a9a2e-3ae6-46f8-a43c-682357ae972f",
   "metadata": {},
   "outputs": [
    {
     "name": "stdout",
     "output_type": "stream",
     "text": [
      "pi\n"
     ]
    }
   ],
   "source": [
    "if 'hh' in tpl:\n",
    "    print('pi')\n",
    "else:\n",
    "    print('nahii')"
   ]
  },
  {
   "cell_type": "code",
   "execution_count": 9,
   "id": "1ba3f723-6617-40c8-b638-e6b5e737693e",
   "metadata": {},
   "outputs": [
    {
     "name": "stdout",
     "output_type": "stream",
     "text": [
      "aa\n",
      "hh\n",
      "fff\n"
     ]
    }
   ],
   "source": [
    "for s in tpl:\n",
    "    print(s)"
   ]
  },
  {
   "cell_type": "code",
   "execution_count": 11,
   "id": "238ef33f-a988-4b45-9894-28f36bb4861c",
   "metadata": {},
   "outputs": [
    {
     "name": "stdout",
     "output_type": "stream",
     "text": [
      "['aa', 'hh', 'fff', 'www', 'yyy', 'zzz']\n"
     ]
    }
   ],
   "source": [
    "tpl2 =['www','yyy','zzz']\n",
    "tplall =tpl + tpl2\n",
    "print(tplall)"
   ]
  },
  {
   "cell_type": "code",
   "execution_count": 13,
   "id": "9fef85b3-11b6-47c4-9bb3-de1fbc9f5310",
   "metadata": {},
   "outputs": [
    {
     "name": "stdout",
     "output_type": "stream",
     "text": [
      "['www', 'yyy', 'zzz', 'www', 'yyy', 'zzz', 'www', 'yyy', 'zzz', 'www', 'yyy', 'zzz']\n"
     ]
    }
   ],
   "source": [
    "tplmul = tpl2*4\n",
    "print(tplmul)"
   ]
  },
  {
   "cell_type": "code",
   "execution_count": null,
   "id": "a98eb984-a505-4ebf-94de-e6612eab5d4d",
   "metadata": {},
   "outputs": [],
   "source": []
  }
 ],
 "metadata": {
  "kernelspec": {
   "display_name": "Python 3 (ipykernel)",
   "language": "python",
   "name": "python3"
  },
  "language_info": {
   "codemirror_mode": {
    "name": "ipython",
    "version": 3
   },
   "file_extension": ".py",
   "mimetype": "text/x-python",
   "name": "python",
   "nbconvert_exporter": "python",
   "pygments_lexer": "ipython3",
   "version": "3.12.4"
  }
 },
 "nbformat": 4,
 "nbformat_minor": 5
}
