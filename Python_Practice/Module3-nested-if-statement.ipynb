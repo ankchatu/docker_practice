{
 "cells": [
  {
   "cell_type": "code",
   "execution_count": 3,
   "id": "0c13b0a7-2d24-4e20-be07-3c40f52b3130",
   "metadata": {},
   "outputs": [
    {
     "name": "stdin",
     "output_type": "stream",
     "text": [
      "do you like icecream yes/no no\n"
     ]
    }
   ],
   "source": [
    "if(input('do you like icecream yes/no')) == 'yes':\n",
    "    if(input('do you like vanilla flavor yes/no'))=='yes':\n",
    "        print('VANILLA BOY')\n",
    "    else:\n",
    "        print('CHOCOLA')"
   ]
  },
  {
   "cell_type": "code",
   "execution_count": 9,
   "id": "67ff639e-e06c-4268-a1b1-4284a6708e38",
   "metadata": {},
   "outputs": [
    {
     "name": "stdin",
     "output_type": "stream",
     "text": [
      "How many days ago have you purchased the item?  11\n",
      "Have you used the item at all [y/n]?   y\n"
     ]
    },
    {
     "name": "stdout",
     "output_type": "stream",
     "text": [
      "You cannot get a refund.\n"
     ]
    }
   ],
   "source": [
    "if int(input('How many days ago have you purchased the item? ')) > 10:\n",
    "    if (input('Have you used the item at all [y/n]?  ')) == 'n':\n",
    "        print('You can get a refund.')\n",
    "    else:\n",
    "        print('You cannot get a refund.')\n",
    "else:\n",
    "    print('You can get a refund.')"
   ]
  },
  {
   "cell_type": "code",
   "execution_count": null,
   "id": "50f4864c-4a3c-437a-990e-f0510b8523f4",
   "metadata": {},
   "outputs": [],
   "source": []
  }
 ],
 "metadata": {
  "kernelspec": {
   "display_name": "Python 3 (ipykernel)",
   "language": "python",
   "name": "python3"
  },
  "language_info": {
   "codemirror_mode": {
    "name": "ipython",
    "version": 3
   },
   "file_extension": ".py",
   "mimetype": "text/x-python",
   "name": "python",
   "nbconvert_exporter": "python",
   "pygments_lexer": "ipython3",
   "version": "3.12.4"
  }
 },
 "nbformat": 4,
 "nbformat_minor": 5
}
