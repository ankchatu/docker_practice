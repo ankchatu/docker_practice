{
 "cells": [
  {
   "cell_type": "code",
   "execution_count": 1,
   "id": "11de5da4-b1f5-4d37-bf84-32d70981ac79",
   "metadata": {},
   "outputs": [
    {
     "name": "stdout",
     "output_type": "stream",
     "text": [
      "(1,)\n"
     ]
    }
   ],
   "source": [
    "mytuple = 1,\n",
    "print(mytuple)\n"
   ]
  },
  {
   "cell_type": "code",
   "execution_count": 3,
   "id": "6301ebf7-36ff-4766-bea9-d3dab383a73c",
   "metadata": {},
   "outputs": [
    {
     "name": "stdout",
     "output_type": "stream",
     "text": [
      "(1,)\n"
     ]
    }
   ],
   "source": [
    "mytuple = (1,)\n",
    "print(mytuple)"
   ]
  },
  {
   "cell_type": "code",
   "execution_count": 5,
   "id": "a5b49abf-94fe-40a7-8014-76995c7479aa",
   "metadata": {},
   "outputs": [
    {
     "name": "stdout",
     "output_type": "stream",
     "text": [
      "(1, 2, 3)\n"
     ]
    }
   ],
   "source": [
    "mytuple = 1,2,3\n",
    "print(mytuple)"
   ]
  },
  {
   "cell_type": "code",
   "execution_count": 7,
   "id": "d45568c4-2bf6-4d12-ad65-df3e8155e774",
   "metadata": {},
   "outputs": [
    {
     "name": "stdout",
     "output_type": "stream",
     "text": [
      "('kya', 'hau', 'tera', 'vada')\n"
     ]
    }
   ],
   "source": [
    "#modify \n",
    "strtuple = ('kya','hau','tera','vada')\n",
    "print(strtuple)"
   ]
  },
  {
   "cell_type": "code",
   "execution_count": 13,
   "id": "fd48a00b-20f0-4394-b2a8-d1da87066d17",
   "metadata": {},
   "outputs": [
    {
     "name": "stdout",
     "output_type": "stream",
     "text": [
      "hau\n",
      "('kya', 'hau', 'mera', 'vada')\n"
     ]
    }
   ],
   "source": [
    "strtuple = ('kya','hau','tera','vada')\n",
    "print(strtuple[1])\n",
    "#strtuple[2] = 'thara'    GIVES ERROR\n",
    "\n",
    "strtuple = ('kya','hau','mera','vada')\n",
    "\n",
    "print(strtuple)"
   ]
  },
  {
   "cell_type": "code",
   "execution_count": 17,
   "id": "3bfaccf3-871e-4f23-b74a-12496d0412b6",
   "metadata": {},
   "outputs": [],
   "source": [
    "#del strtuple[0]  gives error"
   ]
  },
  {
   "cell_type": "code",
   "execution_count": null,
   "id": "d263a07e-470d-42eb-8522-ac4291d868c0",
   "metadata": {},
   "outputs": [],
   "source": []
  }
 ],
 "metadata": {
  "kernelspec": {
   "display_name": "Python 3 (ipykernel)",
   "language": "python",
   "name": "python3"
  },
  "language_info": {
   "codemirror_mode": {
    "name": "ipython",
    "version": 3
   },
   "file_extension": ".py",
   "mimetype": "text/x-python",
   "name": "python",
   "nbconvert_exporter": "python",
   "pygments_lexer": "ipython3",
   "version": "3.12.4"
  }
 },
 "nbformat": 4,
 "nbformat_minor": 5
}
