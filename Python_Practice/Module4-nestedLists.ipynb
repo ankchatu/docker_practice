{
 "cells": [
  {
   "cell_type": "code",
   "execution_count": 3,
   "id": "ac5f0048-44c3-420c-8593-3a987d9f5e5c",
   "metadata": {},
   "outputs": [
    {
     "name": "stdout",
     "output_type": "stream",
     "text": [
      "['A', 3, 'b', 7, 'g']\n"
     ]
    }
   ],
   "source": [
    "#list can be multiple type elements\n",
    "list = ['A',3,'b',7,'g']\n",
    "print(list)"
   ]
  },
  {
   "cell_type": "code",
   "execution_count": 5,
   "id": "60e9dfa3-e291-494b-89b4-2d4485a0a442",
   "metadata": {},
   "outputs": [
    {
     "name": "stdout",
     "output_type": "stream",
     "text": [
      "[['A1', 'A2', 'A3'], ['B1', 'B2', 'B3']]\n"
     ]
    }
   ],
   "source": [
    "#list in list\n",
    "nestedlist = [['A1','A2','A3'],['B1','B2','B3']]\n",
    "print(nestedlist)"
   ]
  },
  {
   "cell_type": "code",
   "execution_count": 7,
   "id": "268be559-c14a-4e9a-8d7c-f248d83d7a5e",
   "metadata": {},
   "outputs": [
    {
     "name": "stdout",
     "output_type": "stream",
     "text": [
      "['A1', 'A2', 'A3']\n",
      "['B1', 'B2', 'B3']\n"
     ]
    }
   ],
   "source": [
    "for i in nestedlist:\n",
    "    print(i)"
   ]
  },
  {
   "cell_type": "code",
   "execution_count": 9,
   "id": "7a3518e0-b061-41aa-af81-af358c147ff2",
   "metadata": {},
   "outputs": [
    {
     "name": "stdout",
     "output_type": "stream",
     "text": [
      "A1\n",
      "A2\n",
      "A3\n",
      "B1\n",
      "B2\n",
      "B3\n"
     ]
    }
   ],
   "source": [
    "for i in nestedlist:\n",
    "    for j in i:\n",
    "        print(j)"
   ]
  },
  {
   "cell_type": "code",
   "execution_count": 11,
   "id": "ea780527-3d8b-45b2-b13b-8ddd8b2592b3",
   "metadata": {},
   "outputs": [
    {
     "name": "stdout",
     "output_type": "stream",
     "text": [
      "A1\n",
      "A2\n",
      "A3\n",
      "B1\n",
      "B2\n",
      "B3\n"
     ]
    }
   ],
   "source": [
    "for row in nestedlist:\n",
    "    for cell in row:\n",
    "        print(cell)"
   ]
  },
  {
   "cell_type": "code",
   "execution_count": null,
   "id": "c061a524-74a2-4cb4-9b36-ee0fce1dd24a",
   "metadata": {},
   "outputs": [],
   "source": [
    "#creating multi dimnetional list using for loop\n",
    "multilist = [ [i for i in range(1,5)] for j in range(4) ]"
   ]
  }
 ],
 "metadata": {
  "kernelspec": {
   "display_name": "Python 3 (ipykernel)",
   "language": "python",
   "name": "python3"
  },
  "language_info": {
   "codemirror_mode": {
    "name": "ipython",
    "version": 3
   },
   "file_extension": ".py",
   "mimetype": "text/x-python",
   "name": "python",
   "nbconvert_exporter": "python",
   "pygments_lexer": "ipython3",
   "version": "3.12.4"
  }
 },
 "nbformat": 4,
 "nbformat_minor": 5
}
