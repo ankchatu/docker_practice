{
 "cells": [
  {
   "cell_type": "code",
   "execution_count": 3,
   "id": "56ed5dd3-247e-4711-a125-ebed5cf5ed5b",
   "metadata": {},
   "outputs": [
    {
     "name": "stdin",
     "output_type": "stream",
     "text": [
      "what is your name yy\n"
     ]
    },
    {
     "name": "stdout",
     "output_type": "stream",
     "text": [
      "Hellooo yy\n"
     ]
    },
    {
     "name": "stdin",
     "output_type": "stream",
     "text": [
      "what is your name babu\n"
     ]
    },
    {
     "name": "stdout",
     "output_type": "stream",
     "text": [
      "Hellooo babu\n"
     ]
    },
    {
     "name": "stdin",
     "output_type": "stream",
     "text": [
      "what is your name exit\n"
     ]
    },
    {
     "name": "stdout",
     "output_type": "stream",
     "text": [
      "Hellooo exit\n"
     ]
    },
    {
     "name": "stdin",
     "output_type": "stream",
     "text": [
      "what is your name EXIT\n"
     ]
    }
   ],
   "source": [
    "while True:\n",
    "    user = input('what is your name')\n",
    "    if user == 'EXIT':\n",
    "        break\n",
    "    print('Hellooo',user)"
   ]
  },
  {
   "cell_type": "code",
   "execution_count": null,
   "id": "05f72742-25c7-4309-ab2c-9d42944c4205",
   "metadata": {},
   "outputs": [],
   "source": [
    "for i in range(1)"
   ]
  }
 ],
 "metadata": {
  "kernelspec": {
   "display_name": "Python 3 (ipykernel)",
   "language": "python",
   "name": "python3"
  },
  "language_info": {
   "codemirror_mode": {
    "name": "ipython",
    "version": 3
   },
   "file_extension": ".py",
   "mimetype": "text/x-python",
   "name": "python",
   "nbconvert_exporter": "python",
   "pygments_lexer": "ipython3",
   "version": "3.12.4"
  }
 },
 "nbformat": 4,
 "nbformat_minor": 5
}
