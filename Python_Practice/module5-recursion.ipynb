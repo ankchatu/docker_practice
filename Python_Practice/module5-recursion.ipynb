{
 "cells": [
  {
   "cell_type": "code",
   "execution_count": 5,
   "id": "1a80906d-8453-4f7d-bb2f-e76d28238778",
   "metadata": {},
   "outputs": [
    {
     "data": {
      "text/plain": [
       "120"
      ]
     },
     "execution_count": 5,
     "metadata": {},
     "output_type": "execute_result"
    }
   ],
   "source": [
    "# iterative way factorial\n",
    "\n",
    "def iter_fact(n):\n",
    "    factorial = 1\n",
    "    for i in range(1,n+1):\n",
    "        factorial *= i\n",
    "    return factorial\n",
    "\n",
    "iter_fact(5)"
   ]
  },
  {
   "cell_type": "code",
   "execution_count": null,
   "id": "d4dac114-df1e-4a5d-8c58-b0392409300a",
   "metadata": {},
   "outputs": [],
   "source": [
    "# recursive way factorial\n",
    "def rec_factorial(n):\n",
    "    "
   ]
  }
 ],
 "metadata": {
  "kernelspec": {
   "display_name": "Python 3 (ipykernel)",
   "language": "python",
   "name": "python3"
  },
  "language_info": {
   "codemirror_mode": {
    "name": "ipython",
    "version": 3
   },
   "file_extension": ".py",
   "mimetype": "text/x-python",
   "name": "python",
   "nbconvert_exporter": "python",
   "pygments_lexer": "ipython3",
   "version": "3.12.4"
  }
 },
 "nbformat": 4,
 "nbformat_minor": 5
}
