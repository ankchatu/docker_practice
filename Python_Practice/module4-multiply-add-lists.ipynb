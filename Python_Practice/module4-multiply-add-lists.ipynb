{
 "cells": [
  {
   "cell_type": "code",
   "execution_count": 1,
   "id": "8941a57f-a259-433c-b099-a1ca4f4b528f",
   "metadata": {},
   "outputs": [
    {
     "name": "stdout",
     "output_type": "stream",
     "text": [
      "['a', 'b', 'd', 1, 2, 3]\n"
     ]
    }
   ],
   "source": [
    "list1 = ['a','b','d']\n",
    "list2 = [1,2,3]\n",
    "listadded = list1+list2\n",
    "print(listadded)"
   ]
  },
  {
   "cell_type": "code",
   "execution_count": 3,
   "id": "2a341ab1-7695-46f8-b51d-8c1da26b405e",
   "metadata": {},
   "outputs": [
    {
     "name": "stdout",
     "output_type": "stream",
     "text": [
      "['a', 'b', 'd', 'a', 'b', 'd', 'a', 'b', 'd', 'a', 'b', 'd']\n"
     ]
    }
   ],
   "source": [
    "#multiply\n",
    "multilist = list1*4\n",
    "print(multilist)"
   ]
  },
  {
   "cell_type": "code",
   "execution_count": null,
   "id": "b264e817-cffa-479b-9b56-1b6c6c406241",
   "metadata": {},
   "outputs": [],
   "source": []
  }
 ],
 "metadata": {
  "kernelspec": {
   "display_name": "Python 3 (ipykernel)",
   "language": "python",
   "name": "python3"
  },
  "language_info": {
   "codemirror_mode": {
    "name": "ipython",
    "version": 3
   },
   "file_extension": ".py",
   "mimetype": "text/x-python",
   "name": "python",
   "nbconvert_exporter": "python",
   "pygments_lexer": "ipython3",
   "version": "3.12.4"
  }
 },
 "nbformat": 4,
 "nbformat_minor": 5
}
