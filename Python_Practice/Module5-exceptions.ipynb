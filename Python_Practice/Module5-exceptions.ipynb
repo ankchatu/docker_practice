{
 "cells": [
  {
   "cell_type": "code",
   "execution_count": 3,
   "id": "2dec3aff-55c1-40e4-839c-149086eeda18",
   "metadata": {},
   "outputs": [
    {
     "name": "stdin",
     "output_type": "stream",
     "text": [
      "please provide text e\n"
     ]
    },
    {
     "ename": "ValueError",
     "evalue": "invalid literal for int() with base 10: 'e'",
     "output_type": "error",
     "traceback": [
      "\u001b[1;31m---------------------------------------------------------------------------\u001b[0m",
      "\u001b[1;31mValueError\u001b[0m                                Traceback (most recent call last)",
      "Cell \u001b[1;32mIn[3], line 1\u001b[0m\n\u001b[1;32m----> 1\u001b[0m someint \u001b[38;5;241m=\u001b[39m \u001b[38;5;28mint\u001b[39m(\u001b[38;5;28minput\u001b[39m(\u001b[38;5;124m'\u001b[39m\u001b[38;5;124mplease provide text\u001b[39m\u001b[38;5;124m'\u001b[39m))\n\u001b[0;32m      2\u001b[0m \u001b[38;5;28mprint\u001b[39m(\u001b[38;5;124m'\u001b[39m\u001b[38;5;124mdivision by the input is\u001b[39m\u001b[38;5;124m'\u001b[39m,\u001b[38;5;241m1\u001b[39m\u001b[38;5;241m/\u001b[39msomeint)\n",
      "\u001b[1;31mValueError\u001b[0m: invalid literal for int() with base 10: 'e'"
     ]
    }
   ],
   "source": [
    "someint = int(input('please provide text'))\n",
    "print('division by the input is',1/someint)"
   ]
  },
  {
   "cell_type": "code",
   "execution_count": 7,
   "id": "2d023b31-d20e-4ccb-83f0-f22e23cf69a1",
   "metadata": {},
   "outputs": [
    {
     "name": "stdin",
     "output_type": "stream",
     "text": [
      "please provide text e\n"
     ]
    },
    {
     "name": "stdout",
     "output_type": "stream",
     "text": [
      "some general exception occured\n"
     ]
    }
   ],
   "source": [
    "try:\n",
    "    someint = int(input('please provide text'))\n",
    "    print('division by the input is',1/someint)\n",
    "except:\n",
    "    print('some general exception occured')"
   ]
  },
  {
   "cell_type": "code",
   "execution_count": null,
   "id": "3cbb413d-9598-4d7f-b823-9c858f20a98e",
   "metadata": {},
   "outputs": [],
   "source": [
    "# specific excpetion\n",
    "# at last added geenral exception block to catch unmatched scenario\n",
    "try:\n",
    "    someint = int(input('please provide text'))\n",
    "    print('division by the input is',1/someint)\n",
    "except ValueError:\n",
    "    print('please provide int value')\n",
    "except ZeroDivisionError:\n",
    "    print('please provide non zero value')\n",
    "except:\n",
    "    print('something went wrong')"
   ]
  },
  {
   "cell_type": "code",
   "execution_count": null,
   "id": "227d8063-765d-44c4-b488-f0505175f5be",
   "metadata": {},
   "outputs": [],
   "source": []
  }
 ],
 "metadata": {
  "kernelspec": {
   "display_name": "Python 3 (ipykernel)",
   "language": "python",
   "name": "python3"
  },
  "language_info": {
   "codemirror_mode": {
    "name": "ipython",
    "version": 3
   },
   "file_extension": ".py",
   "mimetype": "text/x-python",
   "name": "python",
   "nbconvert_exporter": "python",
   "pygments_lexer": "ipython3",
   "version": "3.12.4"
  }
 },
 "nbformat": 4,
 "nbformat_minor": 5
}
