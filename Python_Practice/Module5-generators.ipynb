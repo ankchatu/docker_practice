{
 "cells": [
  {
   "cell_type": "code",
   "execution_count": 9,
   "id": "d09c06a1-6784-4f65-8e18-bf2930e3bde4",
   "metadata": {},
   "outputs": [
    {
     "name": "stdout",
     "output_type": "stream",
     "text": [
      "1\n",
      "2\n",
      "3\n",
      "4\n"
     ]
    }
   ],
   "source": [
    "# normal call for generator\n",
    "def generator_fx():\n",
    "    for i in range(1,6):\n",
    "        yield i\n",
    "g = generator_fx()\n",
    "print(next(g))\n",
    "print(next(g))\n",
    "print(next(g))\n",
    "print(next(g))"
   ]
  },
  {
   "cell_type": "code",
   "execution_count": 11,
   "id": "5aa950bc-f45c-4b79-bc12-9275257f1791",
   "metadata": {},
   "outputs": [
    {
     "name": "stdout",
     "output_type": "stream",
     "text": [
      "1\n",
      "2\n",
      "3\n",
      "4\n",
      "5\n"
     ]
    }
   ],
   "source": [
    "# call using a for to generator\n",
    "\n",
    "for i in generator_fx():\n",
    "    print(i)"
   ]
  },
  {
   "cell_type": "code",
   "execution_count": null,
   "id": "ad891d7f-c087-4917-838e-2696078a395e",
   "metadata": {},
   "outputs": [],
   "source": [
    "# call to create a list from generator result\n",
    "generatedlist = List()"
   ]
  }
 ],
 "metadata": {
  "kernelspec": {
   "display_name": "Python 3 (ipykernel)",
   "language": "python",
   "name": "python3"
  },
  "language_info": {
   "codemirror_mode": {
    "name": "ipython",
    "version": 3
   },
   "file_extension": ".py",
   "mimetype": "text/x-python",
   "name": "python",
   "nbconvert_exporter": "python",
   "pygments_lexer": "ipython3",
   "version": "3.12.4"
  }
 },
 "nbformat": 4,
 "nbformat_minor": 5
}
