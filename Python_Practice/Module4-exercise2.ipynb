{
 "cells": [
  {
   "cell_type": "code",
   "execution_count": 9,
   "id": "a29ab1b3-3083-4266-bea5-f24018143b4d",
   "metadata": {},
   "outputs": [
    {
     "name": "stdout",
     "output_type": "stream",
     "text": [
      "5 connections lead to Rome with an average flight time of 161.0 minutes\n"
     ]
    }
   ],
   "source": [
    "connections = [\n",
    "    ('Amsterdam', 'Dublin', 100),\n",
    "    ('Amsterdam', 'Rome', 140),\n",
    "    ('Rome', 'Warsaw', 130),\n",
    "    ('Minsk', 'Prague', 95),\n",
    "    ('Stockholm', 'Rome', 190),\n",
    "    ('Copenhagen', 'Paris', 120),\n",
    "    ('Madrid', 'Rome', 135),\n",
    "    ('Lisbon', 'Rome', 170),\n",
    "    ('Dublin', 'Rome', 170),\n",
    "    ]\n",
    "count = 0 \n",
    "routesum = 0\n",
    "for travel in connections:\n",
    "    if travel[1] == 'Rome':\n",
    "        count +=1\n",
    "        routesum += travel[2]\n",
    "print(count,'connections lead to Rome with an average flight time of',routesum/count,'minutes')"
   ]
  },
  {
   "cell_type": "code",
   "execution_count": null,
   "id": "8d728885-eaf2-4e51-b20d-e9d197c29d93",
   "metadata": {},
   "outputs": [],
   "source": []
  }
 ],
 "metadata": {
  "kernelspec": {
   "display_name": "Python 3 (ipykernel)",
   "language": "python",
   "name": "python3"
  },
  "language_info": {
   "codemirror_mode": {
    "name": "ipython",
    "version": 3
   },
   "file_extension": ".py",
   "mimetype": "text/x-python",
   "name": "python",
   "nbconvert_exporter": "python",
   "pygments_lexer": "ipython3",
   "version": "3.12.4"
  }
 },
 "nbformat": 4,
 "nbformat_minor": 5
}
