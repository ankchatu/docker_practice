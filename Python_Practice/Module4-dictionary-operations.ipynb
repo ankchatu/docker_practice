{
 "cells": [
  {
   "cell_type": "code",
   "execution_count": 1,
   "id": "fcd277c5-fb4e-4eca-8dad-49939e1fb94c",
   "metadata": {},
   "outputs": [
    {
     "name": "stdout",
     "output_type": "stream",
     "text": [
      "{'aa': '11', 'bb': '22'}\n"
     ]
    }
   ],
   "source": [
    "#empty\n",
    "mydc = {}\n",
    "#add\n",
    "mydc['aa'] = '11'\n",
    "mydc['bb'] = '22'\n",
    "print(mydc)"
   ]
  },
  {
   "cell_type": "code",
   "execution_count": 3,
   "id": "5d076641-ca53-4362-80d6-3f2d5c76d1ef",
   "metadata": {},
   "outputs": [
    {
     "name": "stdout",
     "output_type": "stream",
     "text": [
      "{'aa': '11a', 'bb': '22'}\n"
     ]
    }
   ],
   "source": [
    "#update\n",
    "mydc['aa'] = '11a'\n",
    "print(mydc)"
   ]
  },
  {
   "cell_type": "code",
   "execution_count": 5,
   "id": "3f474e83-e82d-4062-a100-57a7d702b0be",
   "metadata": {},
   "outputs": [
    {
     "name": "stdout",
     "output_type": "stream",
     "text": [
      "{'aa': '11a', 'bb': '22b'}\n"
     ]
    }
   ],
   "source": [
    "mydc.update({'bb':'22b'})\n",
    "print(mydc)"
   ]
  },
  {
   "cell_type": "code",
   "execution_count": 7,
   "id": "f678a84d-1b1f-4330-acde-abbf847e9650",
   "metadata": {},
   "outputs": [
    {
     "data": {
      "text/plain": [
       "2"
      ]
     },
     "execution_count": 7,
     "metadata": {},
     "output_type": "execute_result"
    }
   ],
   "source": [
    "#len,if,del\n",
    "len(mydc)"
   ]
  },
  {
   "cell_type": "code",
   "execution_count": 9,
   "id": "a04bdecf-9016-4294-beb5-aa3c4619ea44",
   "metadata": {},
   "outputs": [
    {
     "name": "stdout",
     "output_type": "stream",
     "text": [
      "mil gaya 11a\n"
     ]
    }
   ],
   "source": [
    "if 'aa' in mydc:\n",
    "    print('mil gaya',mydc['aa'])"
   ]
  },
  {
   "cell_type": "code",
   "execution_count": 11,
   "id": "b8fecf40-26ed-482c-a20b-954be1238b29",
   "metadata": {},
   "outputs": [
    {
     "name": "stdout",
     "output_type": "stream",
     "text": [
      "{'bb': '22b'}\n"
     ]
    }
   ],
   "source": [
    "del(mydc['aa'])\n",
    "print(mydc)"
   ]
  },
  {
   "cell_type": "code",
   "execution_count": 13,
   "id": "5e93eea6-e0d4-43e0-89fa-c02102d43c44",
   "metadata": {},
   "outputs": [
    {
     "name": "stdout",
     "output_type": "stream",
     "text": [
      "{'bb': '22b', 'cc': 33, 'dd': 44, 'ee': 55}\n"
     ]
    }
   ],
   "source": [
    "# iteration ways\n",
    "mydc['cc'] = 33\n",
    "mydc['dd'] = 44\n",
    "mydc['ee'] = 55\n",
    "print(mydc)"
   ]
  },
  {
   "cell_type": "code",
   "execution_count": 15,
   "id": "2814ca47-8678-4c6e-b264-55b9c3f6b80c",
   "metadata": {},
   "outputs": [
    {
     "name": "stdout",
     "output_type": "stream",
     "text": [
      "bb\n",
      "cc\n",
      "dd\n",
      "ee\n"
     ]
    }
   ],
   "source": [
    "for el in mydc:\n",
    "    print(el)"
   ]
  },
  {
   "cell_type": "code",
   "execution_count": 19,
   "id": "1000735c-aa05-42ce-859a-931a172ee7f2",
   "metadata": {},
   "outputs": [
    {
     "name": "stdout",
     "output_type": "stream",
     "text": [
      "bb\n",
      "cc\n",
      "dd\n",
      "ee\n"
     ]
    }
   ],
   "source": [
    "for el in mydc.keys():\n",
    "    print(el)"
   ]
  },
  {
   "cell_type": "code",
   "execution_count": 21,
   "id": "4614972c-a881-4a29-ad99-690b9f0bad5a",
   "metadata": {},
   "outputs": [
    {
     "name": "stdout",
     "output_type": "stream",
     "text": [
      "22b\n",
      "33\n",
      "44\n",
      "55\n"
     ]
    }
   ],
   "source": [
    "for el in mydc.values():\n",
    "    print(el)"
   ]
  },
  {
   "cell_type": "code",
   "execution_count": 25,
   "id": "473ff388-315e-4ab9-a864-cc82ca240974",
   "metadata": {},
   "outputs": [
    {
     "ename": "ValueError",
     "evalue": "too many values to unpack (expected 2)",
     "output_type": "error",
     "traceback": [
      "\u001b[1;31m---------------------------------------------------------------------------\u001b[0m",
      "\u001b[1;31mValueError\u001b[0m                                Traceback (most recent call last)",
      "Cell \u001b[1;32mIn[25], line 1\u001b[0m\n\u001b[1;32m----> 1\u001b[0m \u001b[38;5;28;01mfor\u001b[39;00m el,val \u001b[38;5;129;01min\u001b[39;00m mydc\u001b[38;5;241m.\u001b[39mvalues():\n\u001b[0;32m      2\u001b[0m     \u001b[38;5;28mprint\u001b[39m(\u001b[38;5;124m'\u001b[39m\u001b[38;5;124mkey is\u001b[39m\u001b[38;5;124m'\u001b[39m,el,\u001b[38;5;124m'\u001b[39m\u001b[38;5;124mand value is\u001b[39m\u001b[38;5;124m'\u001b[39m,val)\n",
      "\u001b[1;31mValueError\u001b[0m: too many values to unpack (expected 2)"
     ]
    }
   ],
   "source": [
    "for el,val in mydc.values():\n",
    "    print('key is',el,'and value is',val)"
   ]
  },
  {
   "cell_type": "code",
   "execution_count": null,
   "id": "bd33e53a-818c-4137-9b2c-ee68ccaad027",
   "metadata": {},
   "outputs": [],
   "source": []
  }
 ],
 "metadata": {
  "kernelspec": {
   "display_name": "Python 3 (ipykernel)",
   "language": "python",
   "name": "python3"
  },
  "language_info": {
   "codemirror_mode": {
    "name": "ipython",
    "version": 3
   },
   "file_extension": ".py",
   "mimetype": "text/x-python",
   "name": "python",
   "nbconvert_exporter": "python",
   "pygments_lexer": "ipython3",
   "version": "3.12.4"
  }
 },
 "nbformat": 4,
 "nbformat_minor": 5
}
