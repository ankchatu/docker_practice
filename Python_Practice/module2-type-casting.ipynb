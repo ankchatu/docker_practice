{
 "cells": [
  {
   "cell_type": "code",
   "execution_count": 1,
   "id": "602125dc-12fa-48d9-9254-f345501dae6c",
   "metadata": {},
   "outputs": [
    {
     "name": "stdin",
     "output_type": "stream",
     "text": [
      "please provide height 181\n"
     ]
    },
    {
     "name": "stdout",
     "output_type": "stream",
     "text": [
      "you half height is 90.5\n"
     ]
    }
   ],
   "source": [
    "heightStr = input('please provide height')\n",
    "heightFloat = float(heightStr)\n",
    "print('you half height is',heightFloat/2)"
   ]
  },
  {
   "cell_type": "code",
   "execution_count": 3,
   "id": "2f33c547-b8a5-4002-ab5d-7dc0fd27079a",
   "metadata": {},
   "outputs": [
    {
     "name": "stdin",
     "output_type": "stream",
     "text": [
      "give height 172\n"
     ]
    },
    {
     "name": "stdout",
     "output_type": "stream",
     "text": [
      "ur one thired is 57.333333333333336\n"
     ]
    }
   ],
   "source": [
    "heightFloat = float(input('give height'))\n",
    "print('ur one thired is',heightFloat/3)"
   ]
  },
  {
   "cell_type": "code",
   "execution_count": 5,
   "id": "c9267be9-a1c4-496b-9eac-eb97af801226",
   "metadata": {},
   "outputs": [
    {
     "name": "stdin",
     "output_type": "stream",
     "text": [
      "which year you were born 1981\n"
     ]
    },
    {
     "name": "stdout",
     "output_type": "stream",
     "text": [
      "your age is 43\n"
     ]
    }
   ],
   "source": [
    "yearBorn = int(input('which year you were born'))\n",
    "print('your age is',2024-yearBorn)"
   ]
  },
  {
   "cell_type": "code",
   "execution_count": 9,
   "id": "c8863ec2-0c35-4adf-b20c-cc451f7eb335",
   "metadata": {},
   "outputs": [
    {
     "name": "stdin",
     "output_type": "stream",
     "text": [
      "which year you were born 1982\n",
      "give height 180\n"
     ]
    },
    {
     "name": "stdout",
     "output_type": "stream",
     "text": [
      "('you were born in', '1982', ' and your height is', '180.0')\n"
     ]
    }
   ],
   "source": [
    "yearBorn = int(input('which year you were born'))\n",
    "heightFloat = float(input('give height'))\n",
    "myDetails = 'you were born in ' + str(yearBorn) +' and your height is ',str(heightFloat)\n",
    "print(myDetails)"
   ]
  },
  {
   "cell_type": "code",
   "execution_count": null,
   "id": "67c380e2-4932-4cd8-be13-edb2c4186c7a",
   "metadata": {},
   "outputs": [],
   "source": []
  }
 ],
 "metadata": {
  "kernelspec": {
   "display_name": "Python 3 (ipykernel)",
   "language": "python",
   "name": "python3"
  },
  "language_info": {
   "codemirror_mode": {
    "name": "ipython",
    "version": 3
   },
   "file_extension": ".py",
   "mimetype": "text/x-python",
   "name": "python",
   "nbconvert_exporter": "python",
   "pygments_lexer": "ipython3",
   "version": "3.12.4"
  }
 },
 "nbformat": 4,
 "nbformat_minor": 5
}
