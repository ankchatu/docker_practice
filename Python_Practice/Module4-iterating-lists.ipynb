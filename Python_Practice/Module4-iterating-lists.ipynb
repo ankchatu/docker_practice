{
 "cells": [
  {
   "cell_type": "code",
   "execution_count": 1,
   "id": "113dad27-e12a-40cf-8ac3-bf9a145a3637",
   "metadata": {},
   "outputs": [
    {
     "name": "stdout",
     "output_type": "stream",
     "text": [
      "index is 0 and element us jj\n",
      "index is 1 and element us kkkk\n",
      "index is 2 and element us aaa\n",
      "index is 3 and element us yyyy\n",
      "index is 4 and element us iiii\n"
     ]
    }
   ],
   "source": [
    "thelist = ['jj','kkkk','aaa','yyyy','iiii']\n",
    "for idx in range(len(thelist)):\n",
    "    print('index is',idx,'and element us',thelist[idx])"
   ]
  },
  {
   "cell_type": "code",
   "execution_count": null,
   "id": "eaaa49b3-e2ac-40bd-a200-45871812c9f1",
   "metadata": {},
   "outputs": [],
   "source": [
    "numlist = [1,5,2,,4,6,8]\n",
    "shum = 0.0\n",
    "for ele in numlist:\n",
    "    shum +=ele\n",
    "print"
   ]
  }
 ],
 "metadata": {
  "kernelspec": {
   "display_name": "Python 3 (ipykernel)",
   "language": "python",
   "name": "python3"
  },
  "language_info": {
   "codemirror_mode": {
    "name": "ipython",
    "version": 3
   },
   "file_extension": ".py",
   "mimetype": "text/x-python",
   "name": "python",
   "nbconvert_exporter": "python",
   "pygments_lexer": "ipython3",
   "version": "3.12.4"
  }
 },
 "nbformat": 4,
 "nbformat_minor": 5
}
