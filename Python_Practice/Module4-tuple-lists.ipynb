{
 "cells": [
  {
   "cell_type": "code",
   "execution_count": 3,
   "id": "b13748c4-7fa5-4ae2-83e4-cb688a3d1df5",
   "metadata": {},
   "outputs": [
    {
     "name": "stdout",
     "output_type": "stream",
     "text": [
      "[('india', 'asia', 100), ('germany', 'europe', 8)]\n"
     ]
    }
   ],
   "source": [
    "cntrytpl1 = ('india','asia',100)\n",
    "cntrytpl2 = ('germany','europe',8)\n",
    "\n",
    "countrylist = [cntrytpl1,cntrytpl2]\n",
    "\n",
    "print(countrylist)"
   ]
  },
  {
   "cell_type": "code",
   "execution_count": 7,
   "id": "e20331ed-006f-4136-b895-295bfa43825a",
   "metadata": {},
   "outputs": [
    {
     "name": "stdout",
     "output_type": "stream",
     "text": [
      "('ram', 'kumar', 'IT', [8, 4, 8, 6, 8])\n"
     ]
    },
    {
     "ename": "AttributeError",
     "evalue": "'tuple' object has no attribute 'append'",
     "output_type": "error",
     "traceback": [
      "\u001b[1;31m---------------------------------------------------------------------------\u001b[0m",
      "\u001b[1;31mAttributeError\u001b[0m                            Traceback (most recent call last)",
      "Cell \u001b[1;32mIn[7], line 5\u001b[0m\n\u001b[0;32m      3\u001b[0m \u001b[38;5;28mprint\u001b[39m(empweekatt)\n\u001b[0;32m      4\u001b[0m \u001b[38;5;66;03m#weekend work addition\u001b[39;00m\n\u001b[1;32m----> 5\u001b[0m empweekatt\u001b[38;5;241m.\u001b[39mappend(\u001b[38;5;241m10\u001b[39m,\u001b[38;5;241m10\u001b[39m)\n\u001b[0;32m      6\u001b[0m \u001b[38;5;28mprint\u001b[39m(empweekatt)\n",
      "\u001b[1;31mAttributeError\u001b[0m: 'tuple' object has no attribute 'append'"
     ]
    }
   ],
   "source": [
    "#list in tuple\n",
    "empweekatt = ('ram','kumar','IT',[8,4,8,6,8])\n",
    "print(empweekatt)\n",
    "#weekend work addition\n",
    "empweekatt[3].append(10,10)\n",
    "print(empweekatt)"
   ]
  },
  {
   "cell_type": "code",
   "execution_count": null,
   "id": "2bc92c52-e762-4efd-b71f-52679fca0fe1",
   "metadata": {},
   "outputs": [],
   "source": []
  }
 ],
 "metadata": {
  "kernelspec": {
   "display_name": "Python 3 (ipykernel)",
   "language": "python",
   "name": "python3"
  },
  "language_info": {
   "codemirror_mode": {
    "name": "ipython",
    "version": 3
   },
   "file_extension": ".py",
   "mimetype": "text/x-python",
   "name": "python",
   "nbconvert_exporter": "python",
   "pygments_lexer": "ipython3",
   "version": "3.12.4"
  }
 },
 "nbformat": 4,
 "nbformat_minor": 5
}
