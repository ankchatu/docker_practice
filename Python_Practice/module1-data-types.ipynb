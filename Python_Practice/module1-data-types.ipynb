{
 "cells": [
  {
   "cell_type": "code",
   "execution_count": 3,
   "id": "d1f761a5-08b3-4015-b3b4-527dfd9cfa79",
   "metadata": {},
   "outputs": [
    {
     "name": "stdout",
     "output_type": "stream",
     "text": [
      "hello 35\n"
     ]
    }
   ],
   "source": [
    "var='hello'\n",
    "var1=35\n",
    "print(var,var1)"
   ]
  },
  {
   "cell_type": "code",
   "execution_count": 11,
   "id": "a78d365d-b0fc-48bd-8faa-d4dad382b741",
   "metadata": {},
   "outputs": [
    {
     "name": "stdout",
     "output_type": "stream",
     "text": [
      "4.0\n"
     ]
    }
   ],
   "source": [
    "speed = 4\n",
    "speed =4.0\n",
    "speed = 4.5\n",
    "speed = 4.\n",
    "print(speed)"
   ]
  },
  {
   "cell_type": "code",
   "execution_count": 1,
   "id": "19dcd118-e2c4-4f5f-8aec-56c57a18debf",
   "metadata": {},
   "outputs": [
    {
     "ename": "NameError",
     "evalue": "name 'var' is not defined",
     "output_type": "error",
     "traceback": [
      "\u001b[1;31m---------------------------------------------------------------------------\u001b[0m",
      "\u001b[1;31mNameError\u001b[0m                                 Traceback (most recent call last)",
      "Cell \u001b[1;32mIn[1], line 1\u001b[0m\n\u001b[1;32m----> 1\u001b[0m \u001b[38;5;28mprint\u001b[39m(var,var1)\n",
      "\u001b[1;31mNameError\u001b[0m: name 'var' is not defined"
     ]
    }
   ],
   "source": [
    "amI = True\n",
    "print(amI)"
   ]
  },
  {
   "cell_type": "code",
   "execution_count": null,
   "id": "d0219a12-eb4f-408e-8343-86f65f902001",
   "metadata": {},
   "outputs": [],
   "source": []
  }
 ],
 "metadata": {
  "kernelspec": {
   "display_name": "Python 3 (ipykernel)",
   "language": "python",
   "name": "python3"
  },
  "language_info": {
   "codemirror_mode": {
    "name": "ipython",
    "version": 3
   },
   "file_extension": ".py",
   "mimetype": "text/x-python",
   "name": "python",
   "nbconvert_exporter": "python",
   "pygments_lexer": "ipython3",
   "version": "3.12.4"
  }
 },
 "nbformat": 4,
 "nbformat_minor": 5
}
