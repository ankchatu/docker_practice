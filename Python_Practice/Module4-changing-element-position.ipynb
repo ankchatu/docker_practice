{
 "cells": [
  {
   "cell_type": "code",
   "execution_count": 1,
   "id": "2830ab7d-06f5-4923-b1c4-d4171724fb60",
   "metadata": {},
   "outputs": [
    {
     "name": "stdout",
     "output_type": "stream",
     "text": [
      "pehla doosra\n",
      "doosra pehla\n"
     ]
    }
   ],
   "source": [
    "#if i want to interchage 2 vars\n",
    "first = 'pehla'\n",
    "second = 'doosra'\n",
    "print(first,second)\n",
    "first,second = second,first\n",
    "print(first,second)"
   ]
  },
  {
   "cell_type": "code",
   "execution_count": 5,
   "id": "38ab95c7-3229-4075-ae52-230408398bfc",
   "metadata": {},
   "outputs": [
    {
     "name": "stdout",
     "output_type": "stream",
     "text": [
      "['ek', 'do', 'teen', 'char', 'paanch']\n",
      "['ek', 'teen', 'char', 'do', 'paanch']\n"
     ]
    }
   ],
   "source": [
    "# list interchange elements\n",
    "mylist = ['ek','do','teen','char','paanch']\n",
    "print(mylist)\n",
    "mylist[1],mylist[2],mylist[3] = mylist[2],mylist[3],mylist[1] \n",
    "print(mylist)"
   ]
  },
  {
   "cell_type": "code",
   "execution_count": 7,
   "id": "79a75ce1-111f-488a-aa80-5d1d2f8f7a09",
   "metadata": {},
   "outputs": [
    {
     "name": "stdout",
     "output_type": "stream",
     "text": [
      "['char', 'do', 'ek', 'paanch', 'teen']\n"
     ]
    }
   ],
   "source": [
    "#sort , str and int and reverse\n",
    "mylist = ['ek','do','teen','char','paanch']\n",
    "mylist.sort()\n",
    "print(mylist)"
   ]
  },
  {
   "cell_type": "code",
   "execution_count": 9,
   "id": "690ca51c-5060-483d-a82b-0665caa18a93",
   "metadata": {},
   "outputs": [
    {
     "name": "stdout",
     "output_type": "stream",
     "text": [
      "['teen', 'paanch', 'ek', 'do', 'char']\n"
     ]
    }
   ],
   "source": [
    "thelist = ['ek','do','teen','char','paanch']\n",
    "thelist.sort(reverse = True)\n",
    "print(thelist)"
   ]
  },
  {
   "cell_type": "code",
   "execution_count": 15,
   "id": "d67058ee-2bc9-46ad-b272-85b64839f398",
   "metadata": {},
   "outputs": [
    {
     "name": "stdout",
     "output_type": "stream",
     "text": [
      "[1, 3, 5, 6, 8]\n",
      "[333, 267, 77, 45, -123]\n"
     ]
    }
   ],
   "source": [
    "numlist = [6,8,3,5,1]\n",
    "numlist.sort()\n",
    "print(numlist)\n",
    "numlist = [77,45,267,333,-123]\n",
    "numlist.sort(reverse = True)\n",
    "print(numlist)"
   ]
  },
  {
   "cell_type": "code",
   "execution_count": 17,
   "id": "28868f68-59c4-4ea6-a3ea-70fb2f2e7f69",
   "metadata": {},
   "outputs": [
    {
     "name": "stdout",
     "output_type": "stream",
     "text": [
      "['da', 'hell', 'that', 'was', 'who']\n",
      "['who', 'da', 'hell', 'was', 'that']\n"
     ]
    }
   ],
   "source": [
    "# usage if sorted function\n",
    "jalist = ['who','da','hell','was','that']\n",
    "print(sorted(jalist))\n",
    "print(jalist)"
   ]
  },
  {
   "cell_type": "code",
   "execution_count": null,
   "id": "51f41d51-ffbe-4369-b2e2-7f02c4ab8b97",
   "metadata": {},
   "outputs": [],
   "source": []
  }
 ],
 "metadata": {
  "kernelspec": {
   "display_name": "Python 3 (ipykernel)",
   "language": "python",
   "name": "python3"
  },
  "language_info": {
   "codemirror_mode": {
    "name": "ipython",
    "version": 3
   },
   "file_extension": ".py",
   "mimetype": "text/x-python",
   "name": "python",
   "nbconvert_exporter": "python",
   "pygments_lexer": "ipython3",
   "version": "3.12.4"
  }
 },
 "nbformat": 4,
 "nbformat_minor": 5
}
