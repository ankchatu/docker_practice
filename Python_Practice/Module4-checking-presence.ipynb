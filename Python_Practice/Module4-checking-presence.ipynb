{
 "cells": [
  {
   "cell_type": "code",
   "execution_count": 5,
   "id": "54974fc0-1123-4048-a402-ccddd556b310",
   "metadata": {},
   "outputs": [
    {
     "name": "stdin",
     "output_type": "stream",
     "text": [
      "kya naam hai be gf\n"
     ]
    },
    {
     "name": "stdout",
     "output_type": "stream",
     "text": [
      "nikal le\n"
     ]
    }
   ],
   "source": [
    "guestlist = ['bhai','bhabhi','biwi','baccha']\n",
    "guestname = input('kya naam hai be')\n",
    "if guestname in guestlist:\n",
    "    print('aao bhai, swagat hai')\n",
    "else:\n",
    "    print('nikal le')"
   ]
  },
  {
   "cell_type": "code",
   "execution_count": null,
   "id": "ac320217-41e2-41e2-ad5c-7b6d15d6ad3a",
   "metadata": {},
   "outputs": [],
   "source": [
    "mehmaanlist = ['dost','bhabhi','biwi','baccha']\n",
    "naam = input('kya naam hai be')\n",
    "if naam not in mehmaanlist:\n",
    "    print('aage jao bhai')\n",
    "else:\n",
    "    print('aajao ')"
   ]
  }
 ],
 "metadata": {
  "kernelspec": {
   "display_name": "Python 3 (ipykernel)",
   "language": "python",
   "name": "python3"
  },
  "language_info": {
   "codemirror_mode": {
    "name": "ipython",
    "version": 3
   },
   "file_extension": ".py",
   "mimetype": "text/x-python",
   "name": "python",
   "nbconvert_exporter": "python",
   "pygments_lexer": "ipython3",
   "version": "3.12.4"
  }
 },
 "nbformat": 4,
 "nbformat_minor": 5
}
