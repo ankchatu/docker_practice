{
 "cells": [
  {
   "cell_type": "code",
   "execution_count": 3,
   "id": "973a8da8-bbda-496b-8409-9e42c82cc110",
   "metadata": {},
   "outputs": [
    {
     "name": "stdin",
     "output_type": "stream",
     "text": [
      "What is the number? 5\n"
     ]
    }
   ],
   "source": [
    "number = input('What is the number?')"
   ]
  },
  {
   "cell_type": "code",
   "execution_count": 5,
   "id": "ce6fa5b9-0f97-4fc9-b315-c4da1401754b",
   "metadata": {},
   "outputs": [
    {
     "name": "stdout",
     "output_type": "stream",
     "text": [
      "hello world\n",
      "None\n"
     ]
    }
   ],
   "source": [
    "print_return = print('hello world')\n",
    "print(print_return)"
   ]
  },
  {
   "cell_type": "code",
   "execution_count": 9,
   "id": "98d2f216-8ec5-4526-86c0-e309dbd9f80e",
   "metadata": {},
   "outputs": [
    {
     "name": "stdout",
     "output_type": "stream",
     "text": [
      "\n",
      "None is neither True nor False\n"
     ]
    }
   ],
   "source": [
    "X = print('')\n",
    "if X:\n",
    "    print('None is True')\n",
    "elif X == False:\n",
    "    print('None is False')\n",
    "else:\n",
    "    print('None is neither True nor False')"
   ]
  },
  {
   "cell_type": "code",
   "execution_count": 11,
   "id": "a1e3410c-f7fb-4a8d-ac76-07014cac8945",
   "metadata": {},
   "outputs": [
    {
     "name": "stdout",
     "output_type": "stream",
     "text": [
      "x == None\n",
      "x is None\n"
     ]
    }
   ],
   "source": [
    "# to prove None equates both ways by == and is\n",
    "x = None\n",
    "if x == None:\n",
    "    print('x == None')\n",
    "if x is None:\n",
    "    print('x is None')\n"
   ]
  },
  {
   "cell_type": "code",
   "execution_count": null,
   "id": "7ed976b6-ea86-4a6d-950f-186b5ec0b8d7",
   "metadata": {},
   "outputs": [],
   "source": []
  }
 ],
 "metadata": {
  "kernelspec": {
   "display_name": "Python 3 (ipykernel)",
   "language": "python",
   "name": "python3"
  },
  "language_info": {
   "codemirror_mode": {
    "name": "ipython",
    "version": 3
   },
   "file_extension": ".py",
   "mimetype": "text/x-python",
   "name": "python",
   "nbconvert_exporter": "python",
   "pygments_lexer": "ipython3",
   "version": "3.12.4"
  }
 },
 "nbformat": 4,
 "nbformat_minor": 5
}
