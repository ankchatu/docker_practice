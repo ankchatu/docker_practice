{
 "cells": [
  {
   "cell_type": "code",
   "execution_count": 25,
   "id": "51f00719-712c-46a0-b95a-e2a90a2ff6d6",
   "metadata": {},
   "outputs": [
    {
     "name": "stdin",
     "output_type": "stream",
     "text": [
      "which country France\n",
      "what is your age 31\n"
     ]
    }
   ],
   "source": [
    "country = input('which country')\n",
    "age = int(input('what is your age'))\n",
    "if not country == 'Germany' and age < 25 \\\n",
    "   or country == 'France' and age < 30:\n",
    "    print('you are from', country,'and age',age)"
   ]
  },
  {
   "cell_type": "code",
   "execution_count": null,
   "id": "d348840a-6f0e-481e-97b2-d1f819888fb9",
   "metadata": {},
   "outputs": [],
   "source": [
    "# precedence is not, and or\n",
    "country = input('country')\n",
    "age = int(input('age'))\n",
    "if (country == 'Germany' or country == 'France') and (not age > 60 or age < 18):\n",
    "    print('you are from france or germany and in age of 19 to 59')"
   ]
  },
  {
   "cell_type": "code",
   "execution_count": null,
   "id": "f1dd1b2f-169b-4775-8de6-445866e51c1f",
   "metadata": {},
   "outputs": [],
   "source": []
  }
 ],
 "metadata": {
  "kernelspec": {
   "display_name": "Python 3 (ipykernel)",
   "language": "python",
   "name": "python3"
  },
  "language_info": {
   "codemirror_mode": {
    "name": "ipython",
    "version": 3
   },
   "file_extension": ".py",
   "mimetype": "text/x-python",
   "name": "python",
   "nbconvert_exporter": "python",
   "pygments_lexer": "ipython3",
   "version": "3.12.4"
  }
 },
 "nbformat": 4,
 "nbformat_minor": 5
}
