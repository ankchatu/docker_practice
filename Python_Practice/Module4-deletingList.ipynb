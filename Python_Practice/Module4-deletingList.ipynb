{
 "cells": [
  {
   "cell_type": "code",
   "execution_count": 1,
   "id": "f9e5af5b-0be0-443a-939b-a88d3d6e683d",
   "metadata": {},
   "outputs": [
    {
     "name": "stdout",
     "output_type": "stream",
     "text": [
      "['aaa', 'bbb', 'ccc', 'ddd', 'eee', 'fff', 'ggg']\n"
     ]
    }
   ],
   "source": [
    "merilist = ['aaa','bbb','ccc','ddd','eee','fff','ggg']\n",
    "print(merilist)"
   ]
  },
  {
   "cell_type": "code",
   "execution_count": 3,
   "id": "7baabfbb-5bc9-4a8e-b43e-c36f86d6515c",
   "metadata": {},
   "outputs": [
    {
     "name": "stdout",
     "output_type": "stream",
     "text": [
      "['aaa', 'bbb', 'ddd', 'eee', 'fff', 'ggg']\n"
     ]
    }
   ],
   "source": [
    "del merilist[2]\n",
    "print(merilist)"
   ]
  },
  {
   "cell_type": "code",
   "execution_count": 5,
   "id": "2f7e9934-fc62-41a0-af2c-04601ef4de63",
   "metadata": {},
   "outputs": [
    {
     "name": "stdout",
     "output_type": "stream",
     "text": [
      "['aaa', 'bbb', 'ggg']\n"
     ]
    }
   ],
   "source": [
    "del merilist[2:5]\n",
    "print(merilist)"
   ]
  },
  {
   "cell_type": "code",
   "execution_count": 7,
   "id": "bde7208f-0512-401e-9d9b-01136d93c2b5",
   "metadata": {},
   "outputs": [
    {
     "name": "stdout",
     "output_type": "stream",
     "text": [
      "['aaa', 'ggg']\n"
     ]
    }
   ],
   "source": [
    "del merilist[-2:2]\n",
    "print(merilist)"
   ]
  },
  {
   "cell_type": "code",
   "execution_count": 9,
   "id": "04e0b66e-df3a-44ea-bace-1e7033a71f5b",
   "metadata": {},
   "outputs": [],
   "source": [
    "del merilist[:]"
   ]
  },
  {
   "cell_type": "code",
   "execution_count": null,
   "id": "d7c44a40-f148-4348-b656-68e3f532f9ed",
   "metadata": {},
   "outputs": [],
   "source": []
  }
 ],
 "metadata": {
  "kernelspec": {
   "display_name": "Python 3 (ipykernel)",
   "language": "python",
   "name": "python3"
  },
  "language_info": {
   "codemirror_mode": {
    "name": "ipython",
    "version": 3
   },
   "file_extension": ".py",
   "mimetype": "text/x-python",
   "name": "python",
   "nbconvert_exporter": "python",
   "pygments_lexer": "ipython3",
   "version": "3.12.4"
  }
 },
 "nbformat": 4,
 "nbformat_minor": 5
}
