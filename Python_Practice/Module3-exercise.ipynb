{
 "cells": [
  {
   "cell_type": "code",
   "execution_count": 9,
   "id": "9888dc7c-0c1c-4dac-a9fb-3fd09f163db0",
   "metadata": {},
   "outputs": [
    {
     "name": "stdin",
     "output_type": "stream",
     "text": [
      "When was Python 1.0 released?  1999\n"
     ]
    },
    {
     "name": "stdout",
     "output_type": "stream",
     "text": [
      "It was earlier than that!\n"
     ]
    },
    {
     "name": "stdin",
     "output_type": "stream",
     "text": [
      "When was Python 1.0 released?  1980\n"
     ]
    },
    {
     "name": "stdout",
     "output_type": "stream",
     "text": [
      "It was later than that!\n"
     ]
    },
    {
     "name": "stdin",
     "output_type": "stream",
     "text": [
      "When was Python 1.0 released?  1984\n"
     ]
    },
    {
     "name": "stdout",
     "output_type": "stream",
     "text": [
      "Correct!\n"
     ]
    }
   ],
   "source": [
    "while True:\n",
    "    answer = int(input('When was Python 1.0 released? '))\n",
    "    if answer != 1984:\n",
    "        if(answer>1984):\n",
    "            print('It was earlier than that!')\n",
    "        else:\n",
    "            print('It was later than that!')\n",
    "    else:\n",
    "        print('Correct!')\n",
    "        break"
   ]
  },
  {
   "cell_type": "code",
   "execution_count": null,
   "id": "adc53b47-9a77-470f-8c0a-fc5cbabec289",
   "metadata": {},
   "outputs": [],
   "source": []
  }
 ],
 "metadata": {
  "kernelspec": {
   "display_name": "Python 3 (ipykernel)",
   "language": "python",
   "name": "python3"
  },
  "language_info": {
   "codemirror_mode": {
    "name": "ipython",
    "version": 3
   },
   "file_extension": ".py",
   "mimetype": "text/x-python",
   "name": "python",
   "nbconvert_exporter": "python",
   "pygments_lexer": "ipython3",
   "version": "3.12.4"
  }
 },
 "nbformat": 4,
 "nbformat_minor": 5
}
