{
 "cells": [
  {
   "cell_type": "code",
   "execution_count": 1,
   "id": "c3fa0fb1-cad1-4d98-aaf9-b83707615172",
   "metadata": {},
   "outputs": [
    {
     "name": "stdout",
     "output_type": "stream",
     "text": [
      "['yyy', 'kkk', 'fff', 'aaa', 'ggg']\n"
     ]
    }
   ],
   "source": [
    "mylist = ['yyy','kkk','fff','aaa','ggg']\n",
    "print(mylist)"
   ]
  },
  {
   "cell_type": "code",
   "execution_count": 5,
   "id": "a91349d5-33cb-486c-818d-c084c20d43d6",
   "metadata": {},
   "outputs": [
    {
     "name": "stdout",
     "output_type": "stream",
     "text": [
      "['yyy', 'kkk', 'fff', 'aaa', 'ggg', 'nnn']\n"
     ]
    }
   ],
   "source": [
    "mylist.append('nnn')\n",
    "print(mylist)"
   ]
  },
  {
   "cell_type": "code",
   "execution_count": 7,
   "id": "8d77abe7-9b8a-409a-be7d-d643ef43ec6c",
   "metadata": {},
   "outputs": [
    {
     "name": "stdout",
     "output_type": "stream",
     "text": [
      "['yyy', 'ooo', 'kkk', 'fff', 'aaa', 'ggg', 'nnn']\n"
     ]
    }
   ],
   "source": [
    "mylist.insert(1,'ooo')\n",
    "print(mylist)"
   ]
  },
  {
   "cell_type": "code",
   "execution_count": null,
   "id": "ba9efe6b-8f0f-4df4-8994-0f607467cdcb",
   "metadata": {},
   "outputs": [],
   "source": []
  }
 ],
 "metadata": {
  "kernelspec": {
   "display_name": "Python 3 (ipykernel)",
   "language": "python",
   "name": "python3"
  },
  "language_info": {
   "codemirror_mode": {
    "name": "ipython",
    "version": 3
   },
   "file_extension": ".py",
   "mimetype": "text/x-python",
   "name": "python",
   "nbconvert_exporter": "python",
   "pygments_lexer": "ipython3",
   "version": "3.12.4"
  }
 },
 "nbformat": 4,
 "nbformat_minor": 5
}
