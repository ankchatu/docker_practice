{
 "cells": [
  {
   "cell_type": "code",
   "execution_count": 3,
   "id": "3a4c1bc5-f6f4-4ffe-af3c-9c9bcdad424a",
   "metadata": {},
   "outputs": [
    {
     "name": "stdout",
     "output_type": "stream",
     "text": [
      "outside val\n"
     ]
    }
   ],
   "source": [
    "def myfunction():\n",
    "    print(mysvar)\n",
    "\n",
    "mysvar = 'outside val'\n",
    "myfunction()"
   ]
  },
  {
   "cell_type": "code",
   "execution_count": 5,
   "id": "f47bc551-4d29-4c1e-ba67-51f6a534284a",
   "metadata": {},
   "outputs": [
    {
     "name": "stdout",
     "output_type": "stream",
     "text": [
      "outside val\n",
      "inside val\n",
      "outside val\n"
     ]
    }
   ],
   "source": [
    "def myfunction():\n",
    "    mysvar ='inside val'\n",
    "    print(mysvar)\n",
    "\n",
    "mysvar = 'outside val'\n",
    "\n",
    "print(mysvar)\n",
    "myfunction()\n",
    "print(mysvar)"
   ]
  },
  {
   "cell_type": "code",
   "execution_count": 7,
   "id": "5f291a73-8780-4768-89a4-a0479e57eb5a",
   "metadata": {},
   "outputs": [
    {
     "name": "stdout",
     "output_type": "stream",
     "text": [
      "outside val\n",
      "inside val\n",
      "inside val\n"
     ]
    }
   ],
   "source": [
    "def myfunction():\n",
    "    global mysvar\n",
    "    mysvar ='inside val'\n",
    "    print(mysvar)\n",
    "\n",
    "mysvar = 'outside val'\n",
    "\n",
    "print(mysvar)\n",
    "myfunction()\n",
    "print(mysvar)"
   ]
  },
  {
   "cell_type": "code",
   "execution_count": 11,
   "id": "6db5c65a-414e-4a5b-8e79-10747b589145",
   "metadata": {},
   "outputs": [
    {
     "name": "stdout",
     "output_type": "stream",
     "text": [
      "['outside val']\n",
      "['inside val']\n",
      "['outside val']\n"
     ]
    }
   ],
   "source": [
    "#list scenario\n",
    "def myfunction():\n",
    "    mysvar =['inside val']\n",
    "    print(mysvar)\n",
    "\n",
    "mysvar = ['outside val']\n",
    "\n",
    "print(mysvar)\n",
    "myfunction()\n",
    "print(mysvar)"
   ]
  },
  {
   "cell_type": "code",
   "execution_count": 15,
   "id": "20e615d3-da31-4737-afac-2ee005e1e1cb",
   "metadata": {},
   "outputs": [
    {
     "name": "stdout",
     "output_type": "stream",
     "text": [
      "['outside val']\n",
      "['outside val', 'appended val']\n",
      "['outside val', 'appended val']\n"
     ]
    }
   ],
   "source": [
    "#list scenario a+: append /del works on global list, no local var shadowing\n",
    "def myfunction():\n",
    "    mysvar.append('appended val')\n",
    "    print(mysvar)\n",
    "\n",
    "mysvar = ['outside val']\n",
    "\n",
    "print(mysvar)\n",
    "myfunction()\n",
    "print(mysvar)"
   ]
  },
  {
   "cell_type": "code",
   "execution_count": null,
   "id": "f2efce67-cd97-4531-8b5b-e5d71511ef88",
   "metadata": {},
   "outputs": [],
   "source": []
  }
 ],
 "metadata": {
  "kernelspec": {
   "display_name": "Python 3 (ipykernel)",
   "language": "python",
   "name": "python3"
  },
  "language_info": {
   "codemirror_mode": {
    "name": "ipython",
    "version": 3
   },
   "file_extension": ".py",
   "mimetype": "text/x-python",
   "name": "python",
   "nbconvert_exporter": "python",
   "pygments_lexer": "ipython3",
   "version": "3.12.4"
  }
 },
 "nbformat": 4,
 "nbformat_minor": 5
}
