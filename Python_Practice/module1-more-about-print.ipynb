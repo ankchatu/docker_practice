{
 "cells": [
  {
   "cell_type": "code",
   "execution_count": 1,
   "id": "53390139-5358-4585-b5e1-a90a92a829c1",
   "metadata": {},
   "outputs": [
    {
     "name": "stdout",
     "output_type": "stream",
     "text": [
      "hellw ' world\n"
     ]
    }
   ],
   "source": [
    "print(\"hellw ' world\")"
   ]
  },
  {
   "cell_type": "code",
   "execution_count": 5,
   "id": "a1c484a8-6b96-428a-bccc-48e4dc10ad8b",
   "metadata": {},
   "outputs": [
    {
     "name": "stdout",
     "output_type": "stream",
     "text": [
      "hellew ' world\n"
     ]
    }
   ],
   "source": [
    "print ('hellew \\' world')"
   ]
  },
  {
   "cell_type": "code",
   "execution_count": 7,
   "id": "d927b4f2-b5cd-410f-8ba0-5ad0e4552494",
   "metadata": {},
   "outputs": [
    {
     "ename": "SyntaxError",
     "evalue": "invalid syntax (2484093789.py, line 1)",
     "output_type": "error",
     "traceback": [
      "\u001b[1;36m  Cell \u001b[1;32mIn[7], line 1\u001b[1;36m\u001b[0m\n\u001b[1;33m    print() print()\u001b[0m\n\u001b[1;37m            ^\u001b[0m\n\u001b[1;31mSyntaxError\u001b[0m\u001b[1;31m:\u001b[0m invalid syntax\n"
     ]
    }
   ],
   "source": [
    "print() print()"
   ]
  },
  {
   "cell_type": "code",
   "execution_count": 9,
   "id": "a670a20c-33ca-419c-a9ac-5b45bf427529",
   "metadata": {},
   "outputs": [
    {
     "name": "stdout",
     "output_type": "stream",
     "text": [
      "hello ello\n"
     ]
    }
   ],
   "source": [
    "print('hello', 'ello')"
   ]
  },
  {
   "cell_type": "code",
   "execution_count": 11,
   "id": "8a79032e-d61e-4e1d-91e1-1b48f0b10a0e",
   "metadata": {},
   "outputs": [
    {
     "name": "stdout",
     "output_type": "stream",
     "text": [
      "chal/nchal\n"
     ]
    }
   ],
   "source": [
    "print('chalnchal')"
   ]
  },
  {
   "cell_type": "code",
   "execution_count": null,
   "id": "644f8dd7-6084-43bc-961c-324bbbed5af7",
   "metadata": {},
   "outputs": [],
   "source": []
  }
 ],
 "metadata": {
  "kernelspec": {
   "display_name": "Python 3 (ipykernel)",
   "language": "python",
   "name": "python3"
  },
  "language_info": {
   "codemirror_mode": {
    "name": "ipython",
    "version": 3
   },
   "file_extension": ".py",
   "mimetype": "text/x-python",
   "name": "python",
   "nbconvert_exporter": "python",
   "pygments_lexer": "ipython3",
   "version": "3.12.4"
  }
 },
 "nbformat": 4,
 "nbformat_minor": 5
}
