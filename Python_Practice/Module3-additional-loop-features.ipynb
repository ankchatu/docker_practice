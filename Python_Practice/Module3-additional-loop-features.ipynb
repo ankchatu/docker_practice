{
 "cells": [
  {
   "cell_type": "code",
   "execution_count": 1,
   "id": "6aa91a68-4a1e-4b80-99ec-47229f7c80d7",
   "metadata": {},
   "outputs": [],
   "source": [
    "i = 4;\n",
    "if i == 4:\n",
    "    pass"
   ]
  },
  {
   "cell_type": "code",
   "execution_count": 3,
   "id": "732eb178-0363-4df9-8543-dbe13b64239f",
   "metadata": {},
   "outputs": [
    {
     "name": "stdout",
     "output_type": "stream",
     "text": [
      "1 * 1 = 1\n",
      "1 * 2 = 2\n",
      "1 * 3 = 3\n",
      "1 * 4 = 4\n",
      "2 * 1 = 2\n",
      "2 * 2 = 4\n",
      "2 * 3 = 6\n",
      "2 * 4 = 8\n",
      "3 * 1 = 3\n",
      "3 * 2 = 6\n",
      "3 * 3 = 9\n",
      "3 * 4 = 12\n",
      "4 * 1 = 4\n",
      "4 * 2 = 8\n",
      "4 * 3 = 12\n",
      "4 * 4 = 16\n"
     ]
    }
   ],
   "source": [
    "for a in range(1,5):\n",
    "    for b in range(1,5):\n",
    "        print(a,'*',b,'=',a*b)"
   ]
  },
  {
   "cell_type": "code",
   "execution_count": 7,
   "id": "90737ad8-7963-4d2e-8073-414792a54a1e",
   "metadata": {},
   "outputs": [
    {
     "name": "stdout",
     "output_type": "stream",
     "text": [
      "1 * 1 = 1\n",
      "1 * 2 = 2\n",
      "1 * 3 = 3\n",
      "1 * 4 = 4\n",
      "2 * 1 = 2\n",
      "2 * 2 = 4\n",
      "2 * 3 = 6\n",
      "2 * 4 = 8\n",
      "3 * 1 = 3\n",
      "3 * 2 = 6\n",
      "3 * 3 = 9\n",
      "3 * 4 = 12\n",
      "4 * 1 = 4\n",
      "4 * 2 = 8\n",
      "4 * 3 = 12\n",
      "4 * 4 = 16\n",
      "out of for 2\n"
     ]
    }
   ],
   "source": [
    "for a in range(1,5):\n",
    "    for b in range(1,5):\n",
    "        print(a,'*',b,'=',a*b)\n",
    "else:\n",
    "    print('out of for 2')"
   ]
  },
  {
   "cell_type": "code",
   "execution_count": 15,
   "id": "e3dc1fb3-3bbc-4e12-8aca-4e39b5fe7aad",
   "metadata": {},
   "outputs": [
    {
     "name": "stdout",
     "output_type": "stream",
     "text": [
      "1 * 1 = 1\n",
      "1 * 2 = 2\n",
      "1 * 3 = 3\n",
      "1 * 4 = 4\n",
      "out of for 2\n",
      "2 * 1 = 2\n",
      "2 * 2 = 4\n",
      "2 * 3 = 6\n",
      "2 * 4 = 8\n",
      "out of for 2\n",
      "3 * 1 = 3\n",
      "3 * 2 = 6\n",
      "3 * 3 = 9\n",
      "3 * 4 = 12\n",
      "out of for 2\n",
      "4 * 1 = 4\n",
      "4 * 2 = 8\n",
      "4 * 3 = 12\n",
      "4 * 4 = 16\n",
      "out of for 2\n",
      "out of first for, tata\n"
     ]
    }
   ],
   "source": [
    "for a in range(1,5):\n",
    "    for b in range(1,5):\n",
    "        print(a,'*',b,'=',a*b)\n",
    "    else:\n",
    "        print('out of for 2')\n",
    "else:\n",
    "    print('out of first for, tata')"
   ]
  },
  {
   "cell_type": "code",
   "execution_count": null,
   "id": "11f176ac-188b-4ce9-858b-7c712b201f8e",
   "metadata": {},
   "outputs": [],
   "source": []
  }
 ],
 "metadata": {
  "kernelspec": {
   "display_name": "Python 3 (ipykernel)",
   "language": "python",
   "name": "python3"
  },
  "language_info": {
   "codemirror_mode": {
    "name": "ipython",
    "version": 3
   },
   "file_extension": ".py",
   "mimetype": "text/x-python",
   "name": "python",
   "nbconvert_exporter": "python",
   "pygments_lexer": "ipython3",
   "version": "3.12.4"
  }
 },
 "nbformat": 4,
 "nbformat_minor": 5
}
