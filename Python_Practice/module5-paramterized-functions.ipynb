{
 "cells": [
  {
   "cell_type": "code",
   "execution_count": 3,
   "id": "dc1df47b-8016-4791-8650-93ffb0bc632b",
   "metadata": {},
   "outputs": [],
   "source": [
    "#parmaterized function\n",
    "#multiple parameter\n",
    "#named parameters\n",
    "\n",
    "\n",
    "def calcavg(numlist):\n",
    "    sum = 0\n",
    "    for num in numlist:\n",
    "        sum+=num;\n",
    "    print('average is',sum/len(numlist))   \n",
    "\n"
   ]
  },
  {
   "cell_type": "code",
   "execution_count": 5,
   "id": "79b2c9a6-643d-44e5-9f59-dd7d3271b7b4",
   "metadata": {},
   "outputs": [
    {
     "name": "stdout",
     "output_type": "stream",
     "text": [
      "average is 5.8\n"
     ]
    }
   ],
   "source": [
    "calcavg([2,4,6,8,9])"
   ]
  },
  {
   "cell_type": "code",
   "execution_count": 7,
   "id": "2244232b-54d7-4bf9-a6cd-5408e568fbe3",
   "metadata": {},
   "outputs": [
    {
     "name": "stdout",
     "output_type": "stream",
     "text": [
      "average is 5.375\n"
     ]
    }
   ],
   "source": [
    "calcavg([2,4,6,8,4,5,6,8])"
   ]
  },
  {
   "cell_type": "code",
   "execution_count": 13,
   "id": "9285a0d3-4148-4d04-a254-67f18033de88",
   "metadata": {},
   "outputs": [],
   "source": [
    "#multi param\n",
    "def findinstr(el,str):\n",
    "    count=0\n",
    "    for ch in str:\n",
    "        if ch == el:\n",
    "            count+=1\n",
    "    print(el,'appears',count,'times in',str)"
   ]
  },
  {
   "cell_type": "code",
   "execution_count": 15,
   "id": "d704eaf3-e3c1-4cc2-ba31-49d336f2971d",
   "metadata": {},
   "outputs": [
    {
     "name": "stdout",
     "output_type": "stream",
     "text": [
      "e appears 2 times in hello hello\n"
     ]
    }
   ],
   "source": [
    "findinstr('e','hello hello')"
   ]
  },
  {
   "cell_type": "code",
   "execution_count": 17,
   "id": "84e8d1f3-0074-4be7-b74c-1711644d52af",
   "metadata": {},
   "outputs": [
    {
     "name": "stdout",
     "output_type": "stream",
     "text": [
      "ya appears 0 times in yaya gyan\n"
     ]
    }
   ],
   "source": [
    "findinstr('ya','yaya gyan')"
   ]
  },
  {
   "cell_type": "code",
   "execution_count": 21,
   "id": "18b857b7-10e7-4117-9f85-dedbadc3b910",
   "metadata": {},
   "outputs": [
    {
     "name": "stdout",
     "output_type": "stream",
     "text": [
      "y appears 3 times in yayagyan\n"
     ]
    }
   ],
   "source": [
    "findinstr('y','yayagyan')"
   ]
  },
  {
   "cell_type": "code",
   "execution_count": 23,
   "id": "07c18c95-7011-4599-bb26-1cb5d17dce7b",
   "metadata": {},
   "outputs": [
    {
     "name": "stdout",
     "output_type": "stream",
     "text": [
      "yayagyan appears 0 times in y\n"
     ]
    }
   ],
   "source": [
    "findinstr('yayagyan','y')"
   ]
  },
  {
   "cell_type": "code",
   "execution_count": 31,
   "id": "81e6d1a3-d3ed-4b24-a617-09bd02c111f6",
   "metadata": {},
   "outputs": [
    {
     "ename": "TypeError",
     "evalue": "findinstr() missing 2 required positional arguments: 'el' and 'str'",
     "output_type": "error",
     "traceback": [
      "\u001b[1;31m---------------------------------------------------------------------------\u001b[0m",
      "\u001b[1;31mTypeError\u001b[0m                                 Traceback (most recent call last)",
      "Cell \u001b[1;32mIn[31], line 1\u001b[0m\n\u001b[1;32m----> 1\u001b[0m findinstr()\n",
      "\u001b[1;31mTypeError\u001b[0m: findinstr() missing 2 required positional arguments: 'el' and 'str'"
     ]
    }
   ],
   "source": [
    "findinstr()"
   ]
  },
  {
   "cell_type": "code",
   "execution_count": 35,
   "id": "062b8b0e-6cc1-4dca-81aa-798cb7e004a7",
   "metadata": {},
   "outputs": [
    {
     "name": "stdout",
     "output_type": "stream",
     "text": [
      "a appears 4 times in baba yaga\n"
     ]
    }
   ],
   "source": [
    "#named arg\n",
    "findinstr(str='baba yaga',el='a')"
   ]
  },
  {
   "cell_type": "code",
   "execution_count": null,
   "id": "1a8a14bb-1ae1-4424-9e3f-abcdacd9283b",
   "metadata": {},
   "outputs": [],
   "source": []
  }
 ],
 "metadata": {
  "kernelspec": {
   "display_name": "Python 3 (ipykernel)",
   "language": "python",
   "name": "python3"
  },
  "language_info": {
   "codemirror_mode": {
    "name": "ipython",
    "version": 3
   },
   "file_extension": ".py",
   "mimetype": "text/x-python",
   "name": "python",
   "nbconvert_exporter": "python",
   "pygments_lexer": "ipython3",
   "version": "3.12.4"
  }
 },
 "nbformat": 4,
 "nbformat_minor": 5
}
