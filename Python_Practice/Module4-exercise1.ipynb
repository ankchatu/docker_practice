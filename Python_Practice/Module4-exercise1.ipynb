{
 "cells": [
  {
   "cell_type": "code",
   "execution_count": 11,
   "id": "0506a48c-fabe-42a5-b30e-184dc09fcad0",
   "metadata": {},
   "outputs": [
    {
     "name": "stdout",
     "output_type": "stream",
     "text": [
      "1.0 4.0 7.0\n",
      "Numbers of months with low spendings: 1.0, normal spendings: 4.0, high spendings: 7.0\n"
     ]
    }
   ],
   "source": [
    "spendings = [1346.0, 987.50, 1734.40, 2567.0, 3271.45, 2500.0, 2130.0, 2510.30, 2987.34, 3120.50, 4069.78, 1000.0]\n",
    "\n",
    "low_sp = 0.0;\n",
    "normal_sp = 0.0;\n",
    "high_sp = 0.0;\n",
    "\n",
    "for spend in spendings:\n",
    "    \n",
    "    if spend < 1000:\n",
    "        low_sp += 1\n",
    "    elif spend >= 1000 and spend < 2500:\n",
    "        normal_sp += 1\n",
    "    else:\n",
    "        high_sp += 1\n",
    "\n",
    "print('Numbers of months with low spendings: '+str(low_sp)+', normal spendings: '+str(normal_sp)+', high spendings: '+str(high_sp))"
   ]
  },
  {
   "cell_type": "code",
   "execution_count": null,
   "id": "41a8655b-1f1f-4692-a43f-0278c9ddaf48",
   "metadata": {},
   "outputs": [],
   "source": []
  }
 ],
 "metadata": {
  "kernelspec": {
   "display_name": "Python 3 (ipykernel)",
   "language": "python",
   "name": "python3"
  },
  "language_info": {
   "codemirror_mode": {
    "name": "ipython",
    "version": 3
   },
   "file_extension": ".py",
   "mimetype": "text/x-python",
   "name": "python",
   "nbconvert_exporter": "python",
   "pygments_lexer": "ipython3",
   "version": "3.12.4"
  }
 },
 "nbformat": 4,
 "nbformat_minor": 5
}
