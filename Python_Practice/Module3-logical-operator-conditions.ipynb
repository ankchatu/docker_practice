{
 "cells": [
  {
   "cell_type": "code",
   "execution_count": 7,
   "id": "1477b587-9f2c-4239-9612-fd306fcffda7",
   "metadata": {},
   "outputs": [
    {
     "name": "stdin",
     "output_type": "stream",
     "text": [
      "Please provide password habibi\n"
     ]
    },
    {
     "name": "stdout",
     "output_type": "stream",
     "text": [
      "Aaiye :)\n"
     ]
    }
   ],
   "source": [
    "password = input('Please provide password')\n",
    "if password != 'habibi':\n",
    "    print('Nikal!')\n",
    "else:\n",
    "    print('Aaiye :)')"
   ]
  },
  {
   "cell_type": "code",
   "execution_count": 9,
   "id": "4450e63a-def1-450c-9ff3-ca3c21e658b6",
   "metadata": {},
   "outputs": [
    {
     "name": "stdout",
     "output_type": "stream",
     "text": [
      "ho gaya\n"
     ]
    }
   ],
   "source": [
    "if True:\n",
    "    print('ho gaya')"
   ]
  },
  {
   "cell_type": "code",
   "execution_count": 11,
   "id": "f476f926-881f-4429-aeef-600a26389aaa",
   "metadata": {},
   "outputs": [],
   "source": [
    "if False:\n",
    "    print('nahi print hoga')"
   ]
  },
  {
   "cell_type": "code",
   "execution_count": 13,
   "id": "abe2831e-21bf-49df-a2a7-e671c16ec7ac",
   "metadata": {},
   "outputs": [
    {
     "name": "stdout",
     "output_type": "stream",
     "text": [
      "hona chaiye print\n"
     ]
    }
   ],
   "source": [
    "if 1==1:\n",
    "    print('hona chaiye print')"
   ]
  },
  {
   "cell_type": "code",
   "execution_count": 15,
   "id": "8590f6d3-118b-47d8-a0f7-4dc64219661b",
   "metadata": {},
   "outputs": [],
   "source": [
    "if 1==2:\n",
    "    print('ni hoga')"
   ]
  },
  {
   "cell_type": "code",
   "execution_count": 17,
   "id": "437c71dd-1276-4821-8934-b55a87d3d34b",
   "metadata": {},
   "outputs": [
    {
     "name": "stdout",
     "output_type": "stream",
     "text": [
      "ye toh hoga\n"
     ]
    }
   ],
   "source": [
    "if 2==2.0:\n",
    "    print('ye toh hoga')"
   ]
  },
  {
   "cell_type": "code",
   "execution_count": null,
   "id": "a8a7d2f2-69e8-4e18-bf38-6c5800ab4740",
   "metadata": {},
   "outputs": [],
   "source": []
  }
 ],
 "metadata": {
  "kernelspec": {
   "display_name": "Python 3 (ipykernel)",
   "language": "python",
   "name": "python3"
  },
  "language_info": {
   "codemirror_mode": {
    "name": "ipython",
    "version": 3
   },
   "file_extension": ".py",
   "mimetype": "text/x-python",
   "name": "python",
   "nbconvert_exporter": "python",
   "pygments_lexer": "ipython3",
   "version": "3.12.4"
  }
 },
 "nbformat": 4,
 "nbformat_minor": 5
}
