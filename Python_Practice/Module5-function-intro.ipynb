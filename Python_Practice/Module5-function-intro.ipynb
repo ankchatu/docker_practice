{
 "cells": [
  {
   "cell_type": "code",
   "execution_count": 1,
   "id": "33ad5b13-5768-4e0b-aa80-d93df050044e",
   "metadata": {},
   "outputs": [],
   "source": [
    "def doit():\n",
    "    print('doit called NIKE')"
   ]
  },
  {
   "cell_type": "code",
   "execution_count": 3,
   "id": "2e557440-c858-4d74-9e78-352d9ba96212",
   "metadata": {},
   "outputs": [
    {
     "name": "stdout",
     "output_type": "stream",
     "text": [
      "doit called NIKE\n"
     ]
    }
   ],
   "source": [
    "doit()"
   ]
  },
  {
   "cell_type": "code",
   "execution_count": null,
   "id": "3fddc943-fe42-4c3e-a20d-329028b7544b",
   "metadata": {},
   "outputs": [],
   "source": []
  }
 ],
 "metadata": {
  "kernelspec": {
   "display_name": "Python 3 (ipykernel)",
   "language": "python",
   "name": "python3"
  },
  "language_info": {
   "codemirror_mode": {
    "name": "ipython",
    "version": 3
   },
   "file_extension": ".py",
   "mimetype": "text/x-python",
   "name": "python",
   "nbconvert_exporter": "python",
   "pygments_lexer": "ipython3",
   "version": "3.12.4"
  }
 },
 "nbformat": 4,
 "nbformat_minor": 5
}
